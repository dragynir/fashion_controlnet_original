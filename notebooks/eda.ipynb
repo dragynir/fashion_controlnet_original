{
 "cells": [
  {
   "cell_type": "markdown",
   "source": [
    "# Eda"
   ],
   "metadata": {
    "collapsed": false
   }
  },
  {
   "cell_type": "code",
   "execution_count": 3,
   "outputs": [
    {
     "data": {
      "text/plain": "                                     ImageId  \\\n0       00000663ed1ff0c4e0132b9b9ac53f6e.jpg   \n1       00000663ed1ff0c4e0132b9b9ac53f6e.jpg   \n2       00000663ed1ff0c4e0132b9b9ac53f6e.jpg   \n3       00000663ed1ff0c4e0132b9b9ac53f6e.jpg   \n4       00000663ed1ff0c4e0132b9b9ac53f6e.jpg   \n...                                      ...   \n331208  fffe20b555b98c3c1f26c8dfff275cbc.jpg   \n331209  ffffbf7014a9e408bfbb81a75bc70638.jpg   \n331210  ffffbf7014a9e408bfbb81a75bc70638.jpg   \n331211  ffffbf7014a9e408bfbb81a75bc70638.jpg   \n331212  ffffbf7014a9e408bfbb81a75bc70638.jpg   \n\n                                            EncodedPixels  Height  Width  \\\n0       6068157 7 6073371 20 6078584 34 6083797 48 608...    5214   3676   \n1       6323163 11 6328356 32 6333549 53 6338742 75 63...    5214   3676   \n2       8521389 10 8526585 30 8531789 42 8537002 46 85...    5214   3676   \n3       12903854 2 12909064 7 12914275 10 12919485 15 ...    5214   3676   \n4       10837337 5 10842542 14 10847746 24 10852951 33...    5214   3676   \n...                                                   ...     ...    ...   \n331208  2712731 8 2715725 23 2718719 39 2721713 55 272...    3000   2001   \n331209  71179 1 71678 3 72178 4 72678 4 73178 5 73679 ...     500    375   \n331210  116648 5 117148 16 117648 22 118148 26 118647 ...     500    375   \n331211  67711 1 68210 1 68709 2 69204 2 69208 3 69705 ...     500    375   \n331212  63365 36 63852 77 64343 85 64838 89 65332 94 6...     500    375   \n\n       ClassId  \n0            6  \n1            0  \n2           28  \n3           31  \n4           32  \n...        ...  \n331208      28  \n331209      33  \n331210      31  \n331211      31  \n331212      10  \n\n[331213 rows x 5 columns]",
      "text/html": "<div>\n<style scoped>\n    .dataframe tbody tr th:only-of-type {\n        vertical-align: middle;\n    }\n\n    .dataframe tbody tr th {\n        vertical-align: top;\n    }\n\n    .dataframe thead th {\n        text-align: right;\n    }\n</style>\n<table border=\"1\" class=\"dataframe\">\n  <thead>\n    <tr style=\"text-align: right;\">\n      <th></th>\n      <th>ImageId</th>\n      <th>EncodedPixels</th>\n      <th>Height</th>\n      <th>Width</th>\n      <th>ClassId</th>\n    </tr>\n  </thead>\n  <tbody>\n    <tr>\n      <th>0</th>\n      <td>00000663ed1ff0c4e0132b9b9ac53f6e.jpg</td>\n      <td>6068157 7 6073371 20 6078584 34 6083797 48 608...</td>\n      <td>5214</td>\n      <td>3676</td>\n      <td>6</td>\n    </tr>\n    <tr>\n      <th>1</th>\n      <td>00000663ed1ff0c4e0132b9b9ac53f6e.jpg</td>\n      <td>6323163 11 6328356 32 6333549 53 6338742 75 63...</td>\n      <td>5214</td>\n      <td>3676</td>\n      <td>0</td>\n    </tr>\n    <tr>\n      <th>2</th>\n      <td>00000663ed1ff0c4e0132b9b9ac53f6e.jpg</td>\n      <td>8521389 10 8526585 30 8531789 42 8537002 46 85...</td>\n      <td>5214</td>\n      <td>3676</td>\n      <td>28</td>\n    </tr>\n    <tr>\n      <th>3</th>\n      <td>00000663ed1ff0c4e0132b9b9ac53f6e.jpg</td>\n      <td>12903854 2 12909064 7 12914275 10 12919485 15 ...</td>\n      <td>5214</td>\n      <td>3676</td>\n      <td>31</td>\n    </tr>\n    <tr>\n      <th>4</th>\n      <td>00000663ed1ff0c4e0132b9b9ac53f6e.jpg</td>\n      <td>10837337 5 10842542 14 10847746 24 10852951 33...</td>\n      <td>5214</td>\n      <td>3676</td>\n      <td>32</td>\n    </tr>\n    <tr>\n      <th>...</th>\n      <td>...</td>\n      <td>...</td>\n      <td>...</td>\n      <td>...</td>\n      <td>...</td>\n    </tr>\n    <tr>\n      <th>331208</th>\n      <td>fffe20b555b98c3c1f26c8dfff275cbc.jpg</td>\n      <td>2712731 8 2715725 23 2718719 39 2721713 55 272...</td>\n      <td>3000</td>\n      <td>2001</td>\n      <td>28</td>\n    </tr>\n    <tr>\n      <th>331209</th>\n      <td>ffffbf7014a9e408bfbb81a75bc70638.jpg</td>\n      <td>71179 1 71678 3 72178 4 72678 4 73178 5 73679 ...</td>\n      <td>500</td>\n      <td>375</td>\n      <td>33</td>\n    </tr>\n    <tr>\n      <th>331210</th>\n      <td>ffffbf7014a9e408bfbb81a75bc70638.jpg</td>\n      <td>116648 5 117148 16 117648 22 118148 26 118647 ...</td>\n      <td>500</td>\n      <td>375</td>\n      <td>31</td>\n    </tr>\n    <tr>\n      <th>331211</th>\n      <td>ffffbf7014a9e408bfbb81a75bc70638.jpg</td>\n      <td>67711 1 68210 1 68709 2 69204 2 69208 3 69705 ...</td>\n      <td>500</td>\n      <td>375</td>\n      <td>31</td>\n    </tr>\n    <tr>\n      <th>331212</th>\n      <td>ffffbf7014a9e408bfbb81a75bc70638.jpg</td>\n      <td>63365 36 63852 77 64343 85 64838 89 65332 94 6...</td>\n      <td>500</td>\n      <td>375</td>\n      <td>10</td>\n    </tr>\n  </tbody>\n</table>\n<p>331213 rows × 5 columns</p>\n</div>"
     },
     "execution_count": 3,
     "metadata": {},
     "output_type": "execute_result"
    }
   ],
   "source": [
    "import pandas as pd\n",
    "\n",
    "df = pd.read_csv('../training/iMaterialist(Fashion)/train.csv')\n",
    "df"
   ],
   "metadata": {
    "collapsed": false
   }
  },
  {
   "cell_type": "code",
   "execution_count": 7,
   "outputs": [
    {
     "data": {
      "text/plain": "ImageId\n361cc7654672860b1b7c85fe8e92b38a.jpg    74\n7cf836aab94cde732a337bbd969379fb.jpg    55\nb7d1d6947d932192acfb98aac2efb622.jpg    54\n46d4674b701a9df098c2bc87d7951f2f.jpg    54\n94f8ed8e4f2ff4662c720a3e160dee09.jpg    53\n                                        ..\n64ce9ba1457ad0c5a54ea2b853edc2ab.jpg     1\nf85d6b18ab1e22ab4d12dcca22b8aa0c.jpg     1\n6d563242ee30ca856296e1e9e9771829.jpg     1\ned5166447ee93e22e2a7b6b0e34a82d5.jpg     1\ne4fac43371cabff951df6b9d4bb2c0e0.jpg     1\nName: count, Length: 45195, dtype: int64"
     },
     "execution_count": 7,
     "metadata": {},
     "output_type": "execute_result"
    }
   ],
   "source": [
    "df.ImageId.value_counts()"
   ],
   "metadata": {
    "collapsed": false,
    "ExecuteTime": {
     "start_time": "2023-12-24T10:55:09.018618Z",
     "end_time": "2023-12-24T10:55:09.048618Z"
    }
   }
  },
  {
   "cell_type": "code",
   "execution_count": 9,
   "outputs": [
    {
     "data": {
      "text/plain": "ClassId\n42    58\n35     6\n23     2\n31     2\n6      1\n4      1\n1      1\n32     1\n28     1\n33     1\nName: count, dtype: int64"
     },
     "execution_count": 9,
     "metadata": {},
     "output_type": "execute_result"
    }
   ],
   "source": [
    "df[df.ImageId == '361cc7654672860b1b7c85fe8e92b38a.jpg'].ClassId.value_counts()"
   ],
   "metadata": {
    "collapsed": false,
    "ExecuteTime": {
     "start_time": "2023-12-24T10:56:15.297291Z",
     "end_time": "2023-12-24T10:56:15.315833Z"
    }
   }
  },
  {
   "cell_type": "code",
   "execution_count": 16,
   "outputs": [
    {
     "data": {
      "text/plain": "ClassId\n31                           58810\n23                           46206\n33                           33902\n32                           27037\n10                           15585\n                             ...  \n10_4_10_20_22_53_61_69_88        1\n7_5_15_20_42_60_72_89            1\n10_7_10_20_33_53_61_88           1\n10_3_13_20_34_60_61_88           1\n3_6_11_19_40_60_61_88            1\nName: count, Length: 6354, dtype: int64"
     },
     "execution_count": 16,
     "metadata": {},
     "output_type": "execute_result"
    }
   ],
   "source": [
    "df.ClassId.value_counts()"
   ],
   "metadata": {
    "collapsed": false,
    "ExecuteTime": {
     "start_time": "2023-12-24T11:00:26.610535Z",
     "end_time": "2023-12-24T11:00:26.626535Z"
    }
   }
  },
  {
   "cell_type": "code",
   "execution_count": 26,
   "outputs": [
    {
     "data": {
      "text/plain": "(331213, 5)"
     },
     "execution_count": 26,
     "metadata": {},
     "output_type": "execute_result"
    }
   ],
   "source": [
    "df.shape"
   ],
   "metadata": {
    "collapsed": false,
    "ExecuteTime": {
     "start_time": "2023-12-24T11:11:32.581481Z",
     "end_time": "2023-12-24T11:11:32.589015Z"
    }
   }
  },
  {
   "cell_type": "code",
   "execution_count": 25,
   "outputs": [
    {
     "data": {
      "text/plain": "                                     ImageId  \\\n42      000aac3870ea7c59ca0333ffa5327323.jpg   \n44      000aac3870ea7c59ca0333ffa5327323.jpg   \n48      000b3a87508b0fa185fbd53ecbe2e4c6.jpg   \n92      000e973c99dc090afd7898c93daf0dbc.jpg   \n97      000e973c99dc090afd7898c93daf0dbc.jpg   \n...                                      ...   \n331136  fff36676cdac2dd8d057783f0e9f24cc.jpg   \n331137  fff36676cdac2dd8d057783f0e9f24cc.jpg   \n331163  fff65379ba62e3f6498a20e9cc2a99fe.jpg   \n331165  fff65379ba62e3f6498a20e9cc2a99fe.jpg   \n331166  fff65379ba62e3f6498a20e9cc2a99fe.jpg   \n\n                                            EncodedPixels  Height  Width  \\\n42      8971124 17 8975101 49 8979077 82 8983053 116 8...    4000   6000   \n44      8621972 2 8625970 5 8629968 9 8633966 13 86379...    4000   6000   \n48      291578 3 292856 8 294133 13 295410 19 296687 2...    1280    852   \n92      4796962 5 4801882 14 4806801 24 4811721 33 481...    4928   3264   \n97      5798129 11 5803042 35 5807956 58 5812870 80 58...    4928   3264   \n...                                                   ...     ...    ...   \n331136  944865 1 947120 2 949374 5 951628 7 953883 8 9...    2256   1500   \n331137  486087 4 488337 13 490587 21 492837 30 495087 ...    2256   1500   \n331163  5913102 5 5917131 10 5921163 12 5925195 14 592...    4032   3024   \n331165  5711932 7 5715964 21 5716079 11 5719996 36 572...    4032   3024   \n331166  5401224 108 5405226 147 5409247 162 5413269 17...    4032   3024   \n\n                       ClassId  \n42         10_3_20_34_56_69_91  \n44       3_1_10_20_41_60_61_91  \n48      10_5_19_33_59_61_66_88  \n92          4_0_20_41_60_72_88  \n97             6_8_20_39_60_70  \n...                        ...  \n331136         8_3_20_33_60_61  \n331137   3_6_11_19_40_60_61_88  \n331163         1_0_20_41_49_61  \n331165   6_8_15_20_40_60_61_87  \n331166   9_3_10_20_41_60_61_91  \n\n[11499 rows x 5 columns]",
      "text/html": "<div>\n<style scoped>\n    .dataframe tbody tr th:only-of-type {\n        vertical-align: middle;\n    }\n\n    .dataframe tbody tr th {\n        vertical-align: top;\n    }\n\n    .dataframe thead th {\n        text-align: right;\n    }\n</style>\n<table border=\"1\" class=\"dataframe\">\n  <thead>\n    <tr style=\"text-align: right;\">\n      <th></th>\n      <th>ImageId</th>\n      <th>EncodedPixels</th>\n      <th>Height</th>\n      <th>Width</th>\n      <th>ClassId</th>\n    </tr>\n  </thead>\n  <tbody>\n    <tr>\n      <th>42</th>\n      <td>000aac3870ea7c59ca0333ffa5327323.jpg</td>\n      <td>8971124 17 8975101 49 8979077 82 8983053 116 8...</td>\n      <td>4000</td>\n      <td>6000</td>\n      <td>10_3_20_34_56_69_91</td>\n    </tr>\n    <tr>\n      <th>44</th>\n      <td>000aac3870ea7c59ca0333ffa5327323.jpg</td>\n      <td>8621972 2 8625970 5 8629968 9 8633966 13 86379...</td>\n      <td>4000</td>\n      <td>6000</td>\n      <td>3_1_10_20_41_60_61_91</td>\n    </tr>\n    <tr>\n      <th>48</th>\n      <td>000b3a87508b0fa185fbd53ecbe2e4c6.jpg</td>\n      <td>291578 3 292856 8 294133 13 295410 19 296687 2...</td>\n      <td>1280</td>\n      <td>852</td>\n      <td>10_5_19_33_59_61_66_88</td>\n    </tr>\n    <tr>\n      <th>92</th>\n      <td>000e973c99dc090afd7898c93daf0dbc.jpg</td>\n      <td>4796962 5 4801882 14 4806801 24 4811721 33 481...</td>\n      <td>4928</td>\n      <td>3264</td>\n      <td>4_0_20_41_60_72_88</td>\n    </tr>\n    <tr>\n      <th>97</th>\n      <td>000e973c99dc090afd7898c93daf0dbc.jpg</td>\n      <td>5798129 11 5803042 35 5807956 58 5812870 80 58...</td>\n      <td>4928</td>\n      <td>3264</td>\n      <td>6_8_20_39_60_70</td>\n    </tr>\n    <tr>\n      <th>...</th>\n      <td>...</td>\n      <td>...</td>\n      <td>...</td>\n      <td>...</td>\n      <td>...</td>\n    </tr>\n    <tr>\n      <th>331136</th>\n      <td>fff36676cdac2dd8d057783f0e9f24cc.jpg</td>\n      <td>944865 1 947120 2 949374 5 951628 7 953883 8 9...</td>\n      <td>2256</td>\n      <td>1500</td>\n      <td>8_3_20_33_60_61</td>\n    </tr>\n    <tr>\n      <th>331137</th>\n      <td>fff36676cdac2dd8d057783f0e9f24cc.jpg</td>\n      <td>486087 4 488337 13 490587 21 492837 30 495087 ...</td>\n      <td>2256</td>\n      <td>1500</td>\n      <td>3_6_11_19_40_60_61_88</td>\n    </tr>\n    <tr>\n      <th>331163</th>\n      <td>fff65379ba62e3f6498a20e9cc2a99fe.jpg</td>\n      <td>5913102 5 5917131 10 5921163 12 5925195 14 592...</td>\n      <td>4032</td>\n      <td>3024</td>\n      <td>1_0_20_41_49_61</td>\n    </tr>\n    <tr>\n      <th>331165</th>\n      <td>fff65379ba62e3f6498a20e9cc2a99fe.jpg</td>\n      <td>5711932 7 5715964 21 5716079 11 5719996 36 572...</td>\n      <td>4032</td>\n      <td>3024</td>\n      <td>6_8_15_20_40_60_61_87</td>\n    </tr>\n    <tr>\n      <th>331166</th>\n      <td>fff65379ba62e3f6498a20e9cc2a99fe.jpg</td>\n      <td>5401224 108 5405226 147 5409247 162 5413269 17...</td>\n      <td>4032</td>\n      <td>3024</td>\n      <td>9_3_10_20_41_60_61_91</td>\n    </tr>\n  </tbody>\n</table>\n<p>11499 rows × 5 columns</p>\n</div>"
     },
     "execution_count": 25,
     "metadata": {},
     "output_type": "execute_result"
    }
   ],
   "source": [
    "df[df.ClassId.str.contains('_')]"
   ],
   "metadata": {
    "collapsed": false,
    "ExecuteTime": {
     "start_time": "2023-12-24T11:11:15.292207Z",
     "end_time": "2023-12-24T11:11:15.360206Z"
    }
   }
  },
  {
   "cell_type": "code",
   "execution_count": 10,
   "outputs": [
    {
     "data": {
      "text/plain": "dict_keys(['info', 'categories', 'attributes'])"
     },
     "execution_count": 10,
     "metadata": {},
     "output_type": "execute_result"
    }
   ],
   "source": [
    "import json\n",
    "\n",
    "label_description = open('../training/iMaterialist(Fashion)/label_descriptions.json').read()\n",
    "label_description = json.loads(label_description)\n",
    "label_description.keys()"
   ],
   "metadata": {
    "collapsed": false,
    "ExecuteTime": {
     "start_time": "2023-12-24T10:57:33.062044Z",
     "end_time": "2023-12-24T10:57:33.092043Z"
    }
   }
  },
  {
   "cell_type": "code",
   "execution_count": 17,
   "outputs": [],
   "source": [
    "label_description_info = label_description['info']\n",
    "label_description_categories = pd.DataFrame(label_description['categories'])\n",
    "label_description_attributes = pd.DataFrame(label_description['attributes'])"
   ],
   "metadata": {
    "collapsed": false,
    "ExecuteTime": {
     "start_time": "2023-12-24T11:03:22.565960Z",
     "end_time": "2023-12-24T11:03:22.577959Z"
    }
   }
  },
  {
   "cell_type": "code",
   "execution_count": 18,
   "outputs": [
    {
     "data": {
      "text/plain": "    id                                     name   supercategory  level\n0    0                            shirt, blouse       upperbody      2\n1    1                 top, t-shirt, sweatshirt       upperbody      2\n2    2                                  sweater       upperbody      2\n3    3                                 cardigan       upperbody      2\n4    4                                   jacket       upperbody      2\n5    5                                     vest       upperbody      2\n6    6                                    pants       lowerbody      2\n7    7                                   shorts       lowerbody      2\n8    8                                    skirt       lowerbody      2\n9    9                                     coat       wholebody      2\n10  10                                    dress       wholebody      2\n11  11                                 jumpsuit       wholebody      2\n12  12                                     cape       wholebody      2\n13  13                                  glasses            head      2\n14  14                                      hat            head      2\n15  15  headband, head covering, hair accessory            head      2\n16  16                                      tie            neck      2\n17  17                                    glove  arms and hands      2\n18  18                                    watch  arms and hands      2\n19  19                                     belt           waist      2\n20  20                               leg warmer   legs and feet      2\n21  21                        tights, stockings   legs and feet      2\n22  22                                     sock   legs and feet      2\n23  23                                     shoe   legs and feet      2\n24  24                              bag, wallet          others      2\n25  25                                    scarf          others      2\n26  26                                 umbrella          others      2\n27  27                                     hood   garment parts      2\n28  28                                   collar   garment parts      2\n29  29                                    lapel   garment parts      2\n30  30                                epaulette   garment parts      2\n31  31                                   sleeve   garment parts      2\n32  32                                   pocket   garment parts      2\n33  33                                 neckline   garment parts      2\n34  34                                   buckle        closures      2\n35  35                                   zipper        closures      2\n36  36                                 applique     decorations      2\n37  37                                     bead     decorations      2\n38  38                                      bow     decorations      2\n39  39                                   flower     decorations      2\n40  40                                   fringe     decorations      2\n41  41                                   ribbon     decorations      2\n42  42                                    rivet     decorations      2\n43  43                                   ruffle     decorations      2\n44  44                                   sequin     decorations      2\n45  45                                   tassel     decorations      2",
      "text/html": "<div>\n<style scoped>\n    .dataframe tbody tr th:only-of-type {\n        vertical-align: middle;\n    }\n\n    .dataframe tbody tr th {\n        vertical-align: top;\n    }\n\n    .dataframe thead th {\n        text-align: right;\n    }\n</style>\n<table border=\"1\" class=\"dataframe\">\n  <thead>\n    <tr style=\"text-align: right;\">\n      <th></th>\n      <th>id</th>\n      <th>name</th>\n      <th>supercategory</th>\n      <th>level</th>\n    </tr>\n  </thead>\n  <tbody>\n    <tr>\n      <th>0</th>\n      <td>0</td>\n      <td>shirt, blouse</td>\n      <td>upperbody</td>\n      <td>2</td>\n    </tr>\n    <tr>\n      <th>1</th>\n      <td>1</td>\n      <td>top, t-shirt, sweatshirt</td>\n      <td>upperbody</td>\n      <td>2</td>\n    </tr>\n    <tr>\n      <th>2</th>\n      <td>2</td>\n      <td>sweater</td>\n      <td>upperbody</td>\n      <td>2</td>\n    </tr>\n    <tr>\n      <th>3</th>\n      <td>3</td>\n      <td>cardigan</td>\n      <td>upperbody</td>\n      <td>2</td>\n    </tr>\n    <tr>\n      <th>4</th>\n      <td>4</td>\n      <td>jacket</td>\n      <td>upperbody</td>\n      <td>2</td>\n    </tr>\n    <tr>\n      <th>5</th>\n      <td>5</td>\n      <td>vest</td>\n      <td>upperbody</td>\n      <td>2</td>\n    </tr>\n    <tr>\n      <th>6</th>\n      <td>6</td>\n      <td>pants</td>\n      <td>lowerbody</td>\n      <td>2</td>\n    </tr>\n    <tr>\n      <th>7</th>\n      <td>7</td>\n      <td>shorts</td>\n      <td>lowerbody</td>\n      <td>2</td>\n    </tr>\n    <tr>\n      <th>8</th>\n      <td>8</td>\n      <td>skirt</td>\n      <td>lowerbody</td>\n      <td>2</td>\n    </tr>\n    <tr>\n      <th>9</th>\n      <td>9</td>\n      <td>coat</td>\n      <td>wholebody</td>\n      <td>2</td>\n    </tr>\n    <tr>\n      <th>10</th>\n      <td>10</td>\n      <td>dress</td>\n      <td>wholebody</td>\n      <td>2</td>\n    </tr>\n    <tr>\n      <th>11</th>\n      <td>11</td>\n      <td>jumpsuit</td>\n      <td>wholebody</td>\n      <td>2</td>\n    </tr>\n    <tr>\n      <th>12</th>\n      <td>12</td>\n      <td>cape</td>\n      <td>wholebody</td>\n      <td>2</td>\n    </tr>\n    <tr>\n      <th>13</th>\n      <td>13</td>\n      <td>glasses</td>\n      <td>head</td>\n      <td>2</td>\n    </tr>\n    <tr>\n      <th>14</th>\n      <td>14</td>\n      <td>hat</td>\n      <td>head</td>\n      <td>2</td>\n    </tr>\n    <tr>\n      <th>15</th>\n      <td>15</td>\n      <td>headband, head covering, hair accessory</td>\n      <td>head</td>\n      <td>2</td>\n    </tr>\n    <tr>\n      <th>16</th>\n      <td>16</td>\n      <td>tie</td>\n      <td>neck</td>\n      <td>2</td>\n    </tr>\n    <tr>\n      <th>17</th>\n      <td>17</td>\n      <td>glove</td>\n      <td>arms and hands</td>\n      <td>2</td>\n    </tr>\n    <tr>\n      <th>18</th>\n      <td>18</td>\n      <td>watch</td>\n      <td>arms and hands</td>\n      <td>2</td>\n    </tr>\n    <tr>\n      <th>19</th>\n      <td>19</td>\n      <td>belt</td>\n      <td>waist</td>\n      <td>2</td>\n    </tr>\n    <tr>\n      <th>20</th>\n      <td>20</td>\n      <td>leg warmer</td>\n      <td>legs and feet</td>\n      <td>2</td>\n    </tr>\n    <tr>\n      <th>21</th>\n      <td>21</td>\n      <td>tights, stockings</td>\n      <td>legs and feet</td>\n      <td>2</td>\n    </tr>\n    <tr>\n      <th>22</th>\n      <td>22</td>\n      <td>sock</td>\n      <td>legs and feet</td>\n      <td>2</td>\n    </tr>\n    <tr>\n      <th>23</th>\n      <td>23</td>\n      <td>shoe</td>\n      <td>legs and feet</td>\n      <td>2</td>\n    </tr>\n    <tr>\n      <th>24</th>\n      <td>24</td>\n      <td>bag, wallet</td>\n      <td>others</td>\n      <td>2</td>\n    </tr>\n    <tr>\n      <th>25</th>\n      <td>25</td>\n      <td>scarf</td>\n      <td>others</td>\n      <td>2</td>\n    </tr>\n    <tr>\n      <th>26</th>\n      <td>26</td>\n      <td>umbrella</td>\n      <td>others</td>\n      <td>2</td>\n    </tr>\n    <tr>\n      <th>27</th>\n      <td>27</td>\n      <td>hood</td>\n      <td>garment parts</td>\n      <td>2</td>\n    </tr>\n    <tr>\n      <th>28</th>\n      <td>28</td>\n      <td>collar</td>\n      <td>garment parts</td>\n      <td>2</td>\n    </tr>\n    <tr>\n      <th>29</th>\n      <td>29</td>\n      <td>lapel</td>\n      <td>garment parts</td>\n      <td>2</td>\n    </tr>\n    <tr>\n      <th>30</th>\n      <td>30</td>\n      <td>epaulette</td>\n      <td>garment parts</td>\n      <td>2</td>\n    </tr>\n    <tr>\n      <th>31</th>\n      <td>31</td>\n      <td>sleeve</td>\n      <td>garment parts</td>\n      <td>2</td>\n    </tr>\n    <tr>\n      <th>32</th>\n      <td>32</td>\n      <td>pocket</td>\n      <td>garment parts</td>\n      <td>2</td>\n    </tr>\n    <tr>\n      <th>33</th>\n      <td>33</td>\n      <td>neckline</td>\n      <td>garment parts</td>\n      <td>2</td>\n    </tr>\n    <tr>\n      <th>34</th>\n      <td>34</td>\n      <td>buckle</td>\n      <td>closures</td>\n      <td>2</td>\n    </tr>\n    <tr>\n      <th>35</th>\n      <td>35</td>\n      <td>zipper</td>\n      <td>closures</td>\n      <td>2</td>\n    </tr>\n    <tr>\n      <th>36</th>\n      <td>36</td>\n      <td>applique</td>\n      <td>decorations</td>\n      <td>2</td>\n    </tr>\n    <tr>\n      <th>37</th>\n      <td>37</td>\n      <td>bead</td>\n      <td>decorations</td>\n      <td>2</td>\n    </tr>\n    <tr>\n      <th>38</th>\n      <td>38</td>\n      <td>bow</td>\n      <td>decorations</td>\n      <td>2</td>\n    </tr>\n    <tr>\n      <th>39</th>\n      <td>39</td>\n      <td>flower</td>\n      <td>decorations</td>\n      <td>2</td>\n    </tr>\n    <tr>\n      <th>40</th>\n      <td>40</td>\n      <td>fringe</td>\n      <td>decorations</td>\n      <td>2</td>\n    </tr>\n    <tr>\n      <th>41</th>\n      <td>41</td>\n      <td>ribbon</td>\n      <td>decorations</td>\n      <td>2</td>\n    </tr>\n    <tr>\n      <th>42</th>\n      <td>42</td>\n      <td>rivet</td>\n      <td>decorations</td>\n      <td>2</td>\n    </tr>\n    <tr>\n      <th>43</th>\n      <td>43</td>\n      <td>ruffle</td>\n      <td>decorations</td>\n      <td>2</td>\n    </tr>\n    <tr>\n      <th>44</th>\n      <td>44</td>\n      <td>sequin</td>\n      <td>decorations</td>\n      <td>2</td>\n    </tr>\n    <tr>\n      <th>45</th>\n      <td>45</td>\n      <td>tassel</td>\n      <td>decorations</td>\n      <td>2</td>\n    </tr>\n  </tbody>\n</table>\n</div>"
     },
     "execution_count": 18,
     "metadata": {},
     "output_type": "execute_result"
    }
   ],
   "source": [
    "label_description_categories"
   ],
   "metadata": {
    "collapsed": false,
    "ExecuteTime": {
     "start_time": "2023-12-24T11:03:26.414948Z",
     "end_time": "2023-12-24T11:03:26.423948Z"
    }
   }
  },
  {
   "cell_type": "code",
   "execution_count": 21,
   "outputs": [
    {
     "data": {
      "text/plain": "supercategory\ndecorations       10\ngarment parts      7\nupperbody          6\nwholebody          4\nlegs and feet      4\nlowerbody          3\nhead               3\nothers             3\narms and hands     2\nclosures           2\nneck               1\nwaist              1\nName: count, dtype: int64"
     },
     "execution_count": 21,
     "metadata": {},
     "output_type": "execute_result"
    }
   ],
   "source": [
    "label_description_categories.supercategory.value_counts()"
   ],
   "metadata": {
    "collapsed": false,
    "ExecuteTime": {
     "start_time": "2023-12-24T11:04:13.073146Z",
     "end_time": "2023-12-24T11:04:13.077145Z"
    }
   }
  },
  {
   "cell_type": "code",
   "execution_count": 22,
   "outputs": [
    {
     "data": {
      "text/plain": "    id                     name supercategory  level\n0    0   above-the-hip (length)        length      1\n1    1             hip (length)        length      1\n2    2           micro (length)        length      1\n3    3            mini (length)        length      1\n4    4  above-the-knee (length)        length      1\n..  ..                      ...           ...    ...\n87  87               high waist     waistline      1\n88  88             normal waist     waistline      1\n89  89                low waist     waistline      1\n90  90       basque (wasitline)     waistline      1\n91  91             no waistline     waistline      1\n\n[92 rows x 4 columns]",
      "text/html": "<div>\n<style scoped>\n    .dataframe tbody tr th:only-of-type {\n        vertical-align: middle;\n    }\n\n    .dataframe tbody tr th {\n        vertical-align: top;\n    }\n\n    .dataframe thead th {\n        text-align: right;\n    }\n</style>\n<table border=\"1\" class=\"dataframe\">\n  <thead>\n    <tr style=\"text-align: right;\">\n      <th></th>\n      <th>id</th>\n      <th>name</th>\n      <th>supercategory</th>\n      <th>level</th>\n    </tr>\n  </thead>\n  <tbody>\n    <tr>\n      <th>0</th>\n      <td>0</td>\n      <td>above-the-hip (length)</td>\n      <td>length</td>\n      <td>1</td>\n    </tr>\n    <tr>\n      <th>1</th>\n      <td>1</td>\n      <td>hip (length)</td>\n      <td>length</td>\n      <td>1</td>\n    </tr>\n    <tr>\n      <th>2</th>\n      <td>2</td>\n      <td>micro (length)</td>\n      <td>length</td>\n      <td>1</td>\n    </tr>\n    <tr>\n      <th>3</th>\n      <td>3</td>\n      <td>mini (length)</td>\n      <td>length</td>\n      <td>1</td>\n    </tr>\n    <tr>\n      <th>4</th>\n      <td>4</td>\n      <td>above-the-knee (length)</td>\n      <td>length</td>\n      <td>1</td>\n    </tr>\n    <tr>\n      <th>...</th>\n      <td>...</td>\n      <td>...</td>\n      <td>...</td>\n      <td>...</td>\n    </tr>\n    <tr>\n      <th>87</th>\n      <td>87</td>\n      <td>high waist</td>\n      <td>waistline</td>\n      <td>1</td>\n    </tr>\n    <tr>\n      <th>88</th>\n      <td>88</td>\n      <td>normal waist</td>\n      <td>waistline</td>\n      <td>1</td>\n    </tr>\n    <tr>\n      <th>89</th>\n      <td>89</td>\n      <td>low waist</td>\n      <td>waistline</td>\n      <td>1</td>\n    </tr>\n    <tr>\n      <th>90</th>\n      <td>90</td>\n      <td>basque (wasitline)</td>\n      <td>waistline</td>\n      <td>1</td>\n    </tr>\n    <tr>\n      <th>91</th>\n      <td>91</td>\n      <td>no waistline</td>\n      <td>waistline</td>\n      <td>1</td>\n    </tr>\n  </tbody>\n</table>\n<p>92 rows × 4 columns</p>\n</div>"
     },
     "execution_count": 22,
     "metadata": {},
     "output_type": "execute_result"
    }
   ],
   "source": [
    "label_description_attributes"
   ],
   "metadata": {
    "collapsed": false,
    "ExecuteTime": {
     "start_time": "2023-12-24T11:04:31.785597Z",
     "end_time": "2023-12-24T11:04:31.806598Z"
    }
   }
  },
  {
   "cell_type": "code",
   "execution_count": 23,
   "outputs": [
    {
     "data": {
      "text/plain": "supercategory\nsilhouette                                     25\ntextile pattern                                18\ntextile finishing, manufacturing techniques    17\nlength                                         10\nopening type                                    9\nwaistline                                       7\nanimal                                          6\nName: count, dtype: int64"
     },
     "execution_count": 23,
     "metadata": {},
     "output_type": "execute_result"
    }
   ],
   "source": [
    "label_description_attributes.supercategory.value_counts()"
   ],
   "metadata": {
    "collapsed": false,
    "ExecuteTime": {
     "start_time": "2023-12-24T11:05:07.475961Z",
     "end_time": "2023-12-24T11:05:07.508024Z"
    }
   }
  },
  {
   "cell_type": "markdown",
   "source": [
    "# Создание датасета"
   ],
   "metadata": {
    "collapsed": false
   }
  },
  {
   "cell_type": "code",
   "execution_count": 21,
   "outputs": [
    {
     "data": {
      "text/plain": "                                     ImageId  \\\n0       00000663ed1ff0c4e0132b9b9ac53f6e.jpg   \n1       000775b6b5e27b011dc8bba2d7b85211.jpg   \n2       000b3ec2c6eaffb491a5abb72c2e3e26.jpg   \n3       000c5bb8ca785bce8d00e3a6c7802a8c.jpg   \n4       000e973c99dc090afd7898c93daf0dbc.jpg   \n...                                      ...   \n331208  f425d57c29436bd2bf0bad31022636c4.jpg   \n331209  f425d57c29436bd2bf0bad31022636c4.jpg   \n331210  f7ce41b4071c3bf87e340ca69f4c6417.jpg   \n331211  f7ce41b4071c3bf87e340ca69f4c6417.jpg   \n331212  f96bffb22c42bd3beb968d5ff5583c6b.jpg   \n\n                                            EncodedPixels  Height  Width  \\\n0       6068157 7 6073371 20 6078584 34 6083797 48 608...    5214   3676   \n1       618579 4 620176 10 621775 14 623375 15 624974 ...    1600   1067   \n2       701292 5 703597 15 705903 25 708209 34 710515 ...    2310   1536   \n3       228212 5 229230 11 230254 12 231277 13 232300 ...    1024    683   \n4       5798129 11 5803042 35 5807956 58 5812870 80 58...    4928   3264   \n...                                                   ...     ...    ...   \n331208  147252 2 147971 4 148689 8 149408 10 150127 11...     720    488   \n331209  150761 1 151480 2 152198 5 152917 6 153635 8 1...     720    488   \n331210  2247662 1 2250041 4 2252420 7 2254800 9 225717...    2382   1500   \n331211  2426357 4 2428734 10 2431111 17 2433487 24 243...    2382   1500   \n331212  2819216 1 2821628 4 2824041 6 2826454 8 282886...    2415   1500   \n\n                ClassId  hasAttributes  CategoryId  id    name supercategory  \\\n0                     6          False           6   6   pants     lowerbody   \n1                     6          False           6   6   pants     lowerbody   \n2                     6          False           6   6   pants     lowerbody   \n3                     6          False           6   6   pants     lowerbody   \n4       6_8_20_39_60_70           True           6   6   pants     lowerbody   \n...                 ...            ...         ...  ..     ...           ...   \n331208               45          False          45  45  tassel   decorations   \n331209               45          False          45  45  tassel   decorations   \n331210               45          False          45  45  tassel   decorations   \n331211               45          False          45  45  tassel   decorations   \n331212               45          False          45  45  tassel   decorations   \n\n        level  \n0           2  \n1           2  \n2           2  \n3           2  \n4           2  \n...       ...  \n331208      2  \n331209      2  \n331210      2  \n331211      2  \n331212      2  \n\n[331213 rows x 11 columns]",
      "text/html": "<div>\n<style scoped>\n    .dataframe tbody tr th:only-of-type {\n        vertical-align: middle;\n    }\n\n    .dataframe tbody tr th {\n        vertical-align: top;\n    }\n\n    .dataframe thead th {\n        text-align: right;\n    }\n</style>\n<table border=\"1\" class=\"dataframe\">\n  <thead>\n    <tr style=\"text-align: right;\">\n      <th></th>\n      <th>ImageId</th>\n      <th>EncodedPixels</th>\n      <th>Height</th>\n      <th>Width</th>\n      <th>ClassId</th>\n      <th>hasAttributes</th>\n      <th>CategoryId</th>\n      <th>id</th>\n      <th>name</th>\n      <th>supercategory</th>\n      <th>level</th>\n    </tr>\n  </thead>\n  <tbody>\n    <tr>\n      <th>0</th>\n      <td>00000663ed1ff0c4e0132b9b9ac53f6e.jpg</td>\n      <td>6068157 7 6073371 20 6078584 34 6083797 48 608...</td>\n      <td>5214</td>\n      <td>3676</td>\n      <td>6</td>\n      <td>False</td>\n      <td>6</td>\n      <td>6</td>\n      <td>pants</td>\n      <td>lowerbody</td>\n      <td>2</td>\n    </tr>\n    <tr>\n      <th>1</th>\n      <td>000775b6b5e27b011dc8bba2d7b85211.jpg</td>\n      <td>618579 4 620176 10 621775 14 623375 15 624974 ...</td>\n      <td>1600</td>\n      <td>1067</td>\n      <td>6</td>\n      <td>False</td>\n      <td>6</td>\n      <td>6</td>\n      <td>pants</td>\n      <td>lowerbody</td>\n      <td>2</td>\n    </tr>\n    <tr>\n      <th>2</th>\n      <td>000b3ec2c6eaffb491a5abb72c2e3e26.jpg</td>\n      <td>701292 5 703597 15 705903 25 708209 34 710515 ...</td>\n      <td>2310</td>\n      <td>1536</td>\n      <td>6</td>\n      <td>False</td>\n      <td>6</td>\n      <td>6</td>\n      <td>pants</td>\n      <td>lowerbody</td>\n      <td>2</td>\n    </tr>\n    <tr>\n      <th>3</th>\n      <td>000c5bb8ca785bce8d00e3a6c7802a8c.jpg</td>\n      <td>228212 5 229230 11 230254 12 231277 13 232300 ...</td>\n      <td>1024</td>\n      <td>683</td>\n      <td>6</td>\n      <td>False</td>\n      <td>6</td>\n      <td>6</td>\n      <td>pants</td>\n      <td>lowerbody</td>\n      <td>2</td>\n    </tr>\n    <tr>\n      <th>4</th>\n      <td>000e973c99dc090afd7898c93daf0dbc.jpg</td>\n      <td>5798129 11 5803042 35 5807956 58 5812870 80 58...</td>\n      <td>4928</td>\n      <td>3264</td>\n      <td>6_8_20_39_60_70</td>\n      <td>True</td>\n      <td>6</td>\n      <td>6</td>\n      <td>pants</td>\n      <td>lowerbody</td>\n      <td>2</td>\n    </tr>\n    <tr>\n      <th>...</th>\n      <td>...</td>\n      <td>...</td>\n      <td>...</td>\n      <td>...</td>\n      <td>...</td>\n      <td>...</td>\n      <td>...</td>\n      <td>...</td>\n      <td>...</td>\n      <td>...</td>\n      <td>...</td>\n    </tr>\n    <tr>\n      <th>331208</th>\n      <td>f425d57c29436bd2bf0bad31022636c4.jpg</td>\n      <td>147252 2 147971 4 148689 8 149408 10 150127 11...</td>\n      <td>720</td>\n      <td>488</td>\n      <td>45</td>\n      <td>False</td>\n      <td>45</td>\n      <td>45</td>\n      <td>tassel</td>\n      <td>decorations</td>\n      <td>2</td>\n    </tr>\n    <tr>\n      <th>331209</th>\n      <td>f425d57c29436bd2bf0bad31022636c4.jpg</td>\n      <td>150761 1 151480 2 152198 5 152917 6 153635 8 1...</td>\n      <td>720</td>\n      <td>488</td>\n      <td>45</td>\n      <td>False</td>\n      <td>45</td>\n      <td>45</td>\n      <td>tassel</td>\n      <td>decorations</td>\n      <td>2</td>\n    </tr>\n    <tr>\n      <th>331210</th>\n      <td>f7ce41b4071c3bf87e340ca69f4c6417.jpg</td>\n      <td>2247662 1 2250041 4 2252420 7 2254800 9 225717...</td>\n      <td>2382</td>\n      <td>1500</td>\n      <td>45</td>\n      <td>False</td>\n      <td>45</td>\n      <td>45</td>\n      <td>tassel</td>\n      <td>decorations</td>\n      <td>2</td>\n    </tr>\n    <tr>\n      <th>331211</th>\n      <td>f7ce41b4071c3bf87e340ca69f4c6417.jpg</td>\n      <td>2426357 4 2428734 10 2431111 17 2433487 24 243...</td>\n      <td>2382</td>\n      <td>1500</td>\n      <td>45</td>\n      <td>False</td>\n      <td>45</td>\n      <td>45</td>\n      <td>tassel</td>\n      <td>decorations</td>\n      <td>2</td>\n    </tr>\n    <tr>\n      <th>331212</th>\n      <td>f96bffb22c42bd3beb968d5ff5583c6b.jpg</td>\n      <td>2819216 1 2821628 4 2824041 6 2826454 8 282886...</td>\n      <td>2415</td>\n      <td>1500</td>\n      <td>45</td>\n      <td>False</td>\n      <td>45</td>\n      <td>45</td>\n      <td>tassel</td>\n      <td>decorations</td>\n      <td>2</td>\n    </tr>\n  </tbody>\n</table>\n<p>331213 rows × 11 columns</p>\n</div>"
     },
     "execution_count": 21,
     "metadata": {},
     "output_type": "execute_result"
    }
   ],
   "source": [
    "import pandas as pd\n",
    "import json\n",
    "\n",
    "label_description = open('../training/iMaterialist(Fashion)/label_descriptions.json').read()\n",
    "image_info = json.loads(label_description)\n",
    "\n",
    "categories = pd.DataFrame(image_info['categories'])\n",
    "attributes = pd.DataFrame(image_info['attributes'])\n",
    "\n",
    "train_df = pd.read_csv('../training/iMaterialist(Fashion)/train.csv')\n",
    "\n",
    "# find records with attributes\n",
    "train_df['hasAttributes'] = train_df.ClassId.apply(lambda x: x.find(\"_\") > 0)\n",
    "\n",
    "# get main category\n",
    "train_df['CategoryId'] = train_df.ClassId.apply(lambda x: x.split(\"_\")[0]).astype(int)\n",
    "\n",
    "# supercategory - это категории по типу(верхняя часть тела, нижняя, голова и т д) - по ней для сегмы надо определить в группы\n",
    "# name - тут более подробное описание - что на картинке есть\n",
    "\n",
    "train_df = train_df.merge(categories, left_on=\"CategoryId\", right_on=\"id\")\n",
    "train_df"
   ],
   "metadata": {
    "collapsed": false,
    "ExecuteTime": {
     "start_time": "2023-12-24T12:10:38.364253Z",
     "end_time": "2023-12-24T12:10:46.030933Z"
    }
   }
  },
  {
   "cell_type": "code",
   "execution_count": 24,
   "outputs": [
    {
     "data": {
      "text/plain": "                                    ImageId  \\\n0      00000663ed1ff0c4e0132b9b9ac53f6e.jpg   \n1      0000fe7c9191fba733c8a69cfaf962b7.jpg   \n2      0002ec21ddb8477e98b2cbb87ea2e269.jpg   \n3      0002f5a0ebc162ecfb73e2c91e3b8f62.jpg   \n4      0004467156e47b0eb6de4aa6479cbd15.jpg   \n...                                     ...   \n45190  fff8d9bd5ad4354b66355dd797942b42.jpg   \n45191  fffb65463df408e308983ef743b77491.jpg   \n45192  fffc631acce2e28e1628de685d40c980.jpg   \n45193  fffe20b555b98c3c1f26c8dfff275cbc.jpg   \n45194  ffffbf7014a9e408bfbb81a75bc70638.jpg   \n\n                                           EncodedPixels  \\\n0      [6068157 7 6073371 20 6078584 34 6083797 48 60...   \n1      [2201176 1 2203623 3 2206071 5 2208518 8 22109...   \n2      [2673735 2 2676734 8 2679734 13 2682733 19 268...   \n3      [107288 1 107854 3 108421 2 108987 3 109554 2 ...   \n4      [241830 6 242576 16 243321 24 244066 29 244811...   \n...                                                  ...   \n45190  [547982 1 549481 2 550980 3 552480 4 553981 3 ...   \n45191  [2113440 62 2116428 82 2119416 102 2122407 119...   \n45192  [290845 20 291816 26 292789 30 293763 33 29473...   \n45193  [2611656 2 2614657 4 2617657 8 2620658 11 2623...   \n45194  [116648 5 117148 16 117648 22 118148 26 118647...   \n\n                                              CategoryId  \\\n0                      [6, 0, 28, 31, 31, 32, 32, 29, 4]   \n1                                                [33, 1]   \n2                                       [33, 10, 23, 23]   \n3                                           [33, 10, 15]   \n4                                   [31, 31, 33, 10, 15]   \n...                                                  ...   \n45190                                   [33, 10, 23, 23]   \n45191             [6, 31, 31, 33, 1, 23, 23, 19, 18, 34]   \n45192           [28, 31, 31, 32, 10, 23, 23, 13, 24, 18]   \n45193  [6, 0, 28, 31, 31, 31, 32, 32, 32, 29, 4, 23, ...   \n45194                                   [31, 31, 33, 10]   \n\n                                                    name  \\\n0      [pants, shirt, blouse, collar, sleeve, sleeve,...   \n1                   [neckline, top, t-shirt, sweatshirt]   \n2                          [neckline, dress, shoe, shoe]   \n3      [neckline, dress, headband, head covering, hai...   \n4      [sleeve, sleeve, neckline, dress, headband, he...   \n...                                                  ...   \n45190                      [neckline, dress, shoe, shoe]   \n45191  [pants, sleeve, sleeve, neckline, top, t-shirt...   \n45192  [collar, sleeve, sleeve, pocket, dress, shoe, ...   \n45193  [pants, shirt, blouse, collar, sleeve, sleeve,...   \n45194                  [sleeve, sleeve, neckline, dress]   \n\n                                           supercategory  Height   Width  \n0      [lowerbody, upperbody, garment parts, garment ...  5214.0  3676.0  \n1                             [garment parts, upperbody]  2448.0  2448.0  \n2      [garment parts, wholebody, legs and feet, legs...  3000.0  1997.0  \n3                       [garment parts, wholebody, head]   567.0   400.0  \n4      [garment parts, garment parts, garment parts, ...   750.0   500.0  \n...                                                  ...     ...     ...  \n45190  [garment parts, wholebody, legs and feet, legs...  1500.0  1000.0  \n45191  [lowerbody, garment parts, garment parts, garm...  3000.0  2247.0  \n45192  [garment parts, garment parts, garment parts, ...   975.0   650.0  \n45193  [lowerbody, upperbody, garment parts, garment ...  3000.0  2001.0  \n45194  [garment parts, garment parts, garment parts, ...   500.0   375.0  \n\n[45195 rows x 7 columns]",
      "text/html": "<div>\n<style scoped>\n    .dataframe tbody tr th:only-of-type {\n        vertical-align: middle;\n    }\n\n    .dataframe tbody tr th {\n        vertical-align: top;\n    }\n\n    .dataframe thead th {\n        text-align: right;\n    }\n</style>\n<table border=\"1\" class=\"dataframe\">\n  <thead>\n    <tr style=\"text-align: right;\">\n      <th></th>\n      <th>ImageId</th>\n      <th>EncodedPixels</th>\n      <th>CategoryId</th>\n      <th>name</th>\n      <th>supercategory</th>\n      <th>Height</th>\n      <th>Width</th>\n    </tr>\n  </thead>\n  <tbody>\n    <tr>\n      <th>0</th>\n      <td>00000663ed1ff0c4e0132b9b9ac53f6e.jpg</td>\n      <td>[6068157 7 6073371 20 6078584 34 6083797 48 60...</td>\n      <td>[6, 0, 28, 31, 31, 32, 32, 29, 4]</td>\n      <td>[pants, shirt, blouse, collar, sleeve, sleeve,...</td>\n      <td>[lowerbody, upperbody, garment parts, garment ...</td>\n      <td>5214.0</td>\n      <td>3676.0</td>\n    </tr>\n    <tr>\n      <th>1</th>\n      <td>0000fe7c9191fba733c8a69cfaf962b7.jpg</td>\n      <td>[2201176 1 2203623 3 2206071 5 2208518 8 22109...</td>\n      <td>[33, 1]</td>\n      <td>[neckline, top, t-shirt, sweatshirt]</td>\n      <td>[garment parts, upperbody]</td>\n      <td>2448.0</td>\n      <td>2448.0</td>\n    </tr>\n    <tr>\n      <th>2</th>\n      <td>0002ec21ddb8477e98b2cbb87ea2e269.jpg</td>\n      <td>[2673735 2 2676734 8 2679734 13 2682733 19 268...</td>\n      <td>[33, 10, 23, 23]</td>\n      <td>[neckline, dress, shoe, shoe]</td>\n      <td>[garment parts, wholebody, legs and feet, legs...</td>\n      <td>3000.0</td>\n      <td>1997.0</td>\n    </tr>\n    <tr>\n      <th>3</th>\n      <td>0002f5a0ebc162ecfb73e2c91e3b8f62.jpg</td>\n      <td>[107288 1 107854 3 108421 2 108987 3 109554 2 ...</td>\n      <td>[33, 10, 15]</td>\n      <td>[neckline, dress, headband, head covering, hai...</td>\n      <td>[garment parts, wholebody, head]</td>\n      <td>567.0</td>\n      <td>400.0</td>\n    </tr>\n    <tr>\n      <th>4</th>\n      <td>0004467156e47b0eb6de4aa6479cbd15.jpg</td>\n      <td>[241830 6 242576 16 243321 24 244066 29 244811...</td>\n      <td>[31, 31, 33, 10, 15]</td>\n      <td>[sleeve, sleeve, neckline, dress, headband, he...</td>\n      <td>[garment parts, garment parts, garment parts, ...</td>\n      <td>750.0</td>\n      <td>500.0</td>\n    </tr>\n    <tr>\n      <th>...</th>\n      <td>...</td>\n      <td>...</td>\n      <td>...</td>\n      <td>...</td>\n      <td>...</td>\n      <td>...</td>\n      <td>...</td>\n    </tr>\n    <tr>\n      <th>45190</th>\n      <td>fff8d9bd5ad4354b66355dd797942b42.jpg</td>\n      <td>[547982 1 549481 2 550980 3 552480 4 553981 3 ...</td>\n      <td>[33, 10, 23, 23]</td>\n      <td>[neckline, dress, shoe, shoe]</td>\n      <td>[garment parts, wholebody, legs and feet, legs...</td>\n      <td>1500.0</td>\n      <td>1000.0</td>\n    </tr>\n    <tr>\n      <th>45191</th>\n      <td>fffb65463df408e308983ef743b77491.jpg</td>\n      <td>[2113440 62 2116428 82 2119416 102 2122407 119...</td>\n      <td>[6, 31, 31, 33, 1, 23, 23, 19, 18, 34]</td>\n      <td>[pants, sleeve, sleeve, neckline, top, t-shirt...</td>\n      <td>[lowerbody, garment parts, garment parts, garm...</td>\n      <td>3000.0</td>\n      <td>2247.0</td>\n    </tr>\n    <tr>\n      <th>45192</th>\n      <td>fffc631acce2e28e1628de685d40c980.jpg</td>\n      <td>[290845 20 291816 26 292789 30 293763 33 29473...</td>\n      <td>[28, 31, 31, 32, 10, 23, 23, 13, 24, 18]</td>\n      <td>[collar, sleeve, sleeve, pocket, dress, shoe, ...</td>\n      <td>[garment parts, garment parts, garment parts, ...</td>\n      <td>975.0</td>\n      <td>650.0</td>\n    </tr>\n    <tr>\n      <th>45193</th>\n      <td>fffe20b555b98c3c1f26c8dfff275cbc.jpg</td>\n      <td>[2611656 2 2614657 4 2617657 8 2620658 11 2623...</td>\n      <td>[6, 0, 28, 31, 31, 31, 32, 32, 32, 29, 4, 23, ...</td>\n      <td>[pants, shirt, blouse, collar, sleeve, sleeve,...</td>\n      <td>[lowerbody, upperbody, garment parts, garment ...</td>\n      <td>3000.0</td>\n      <td>2001.0</td>\n    </tr>\n    <tr>\n      <th>45194</th>\n      <td>ffffbf7014a9e408bfbb81a75bc70638.jpg</td>\n      <td>[116648 5 117148 16 117648 22 118148 26 118647...</td>\n      <td>[31, 31, 33, 10]</td>\n      <td>[sleeve, sleeve, neckline, dress]</td>\n      <td>[garment parts, garment parts, garment parts, ...</td>\n      <td>500.0</td>\n      <td>375.0</td>\n    </tr>\n  </tbody>\n</table>\n<p>45195 rows × 7 columns</p>\n</div>"
     },
     "execution_count": 24,
     "metadata": {},
     "output_type": "execute_result"
    }
   ],
   "source": [
    "size_df = train_df.groupby(\"ImageId\")[[\"Height\", \"Width\"]].mean().reset_index()\n",
    "temp_df = (\n",
    "            train_df.groupby(\"ImageId\")[[\"EncodedPixels\", \"CategoryId\", \"name\", \"supercategory\"]]\n",
    "            .agg(lambda x: list(x))\n",
    "            .reset_index()\n",
    "        )\n",
    "temp_df = temp_df.merge(size_df, on=\"ImageId\", how=\"left\")\n",
    "temp_df"
   ],
   "metadata": {
    "collapsed": false,
    "ExecuteTime": {
     "start_time": "2023-12-24T12:13:03.125043Z",
     "end_time": "2023-12-24T12:13:05.226076Z"
    }
   }
  },
  {
   "cell_type": "code",
   "execution_count": 25,
   "outputs": [],
   "source": [
    "temp_df.to_csv('../training/iMaterialist(Fashion)/dataset/train.csv', index=False)"
   ],
   "metadata": {
    "collapsed": false,
    "ExecuteTime": {
     "start_time": "2023-12-24T12:18:45.307340Z",
     "end_time": "2023-12-24T12:18:58.977887Z"
    }
   }
  },
  {
   "cell_type": "code",
   "execution_count": 7,
   "outputs": [
    {
     "data": {
      "text/plain": "                                    ImageId  category  attribute  id    name  \\\n0      000e973c99dc090afd7898c93daf0dbc.jpg         6          8   6   pants   \n1      00537270eaf902da127c7ac9157a4db1.jpg         6          8   6   pants   \n2      00758bef53b4e871fe2c639a895b5988.jpg         6          8   6   pants   \n3      0091ae902cb738e4ca06038c2654fa00.jpg         6          8   6   pants   \n4      00fc1cb8809762f07f6237c96e42ac31.jpg         6          8   6   pants   \n...                                     ...       ...        ...  ..     ...   \n71462  e66bcfa07c2b8c25c59c969286f86d2e.jpg         8         27   8   skirt   \n71463  f3446a14aa6ed75fb34fb8a35684fb52.jpg         8         27   8   skirt   \n71464  7984bc574e90a6c8b1bdea79032c057b.jpg        10         44  10   dress   \n71465  d6e4543c70c8a9fc220fdb3aa4defaf5.jpg        10         44  10   dress   \n71466  bc7a88cdf9723605e936af9700f57b2b.jpg         7         44   7  shorts   \n\n      supercategory  level  id_attribute name_attribute  \\\n0         lowerbody      2             8  maxi (length)   \n1         lowerbody      2             8  maxi (length)   \n2         lowerbody      2             8  maxi (length)   \n3         lowerbody      2             8  maxi (length)   \n4         lowerbody      2             8  maxi (length)   \n...             ...    ...           ...            ...   \n71462     lowerbody      2            27        balloon   \n71463     lowerbody      2            27        balloon   \n71464     wholebody      2            44        burnout   \n71465     wholebody      2            44        burnout   \n71466     lowerbody      2            44        burnout   \n\n                           supercategory_attribute  level_attribute  \n0                                           length                1  \n1                                           length                1  \n2                                           length                1  \n3                                           length                1  \n4                                           length                1  \n...                                            ...              ...  \n71462                                   silhouette                1  \n71463                                   silhouette                1  \n71464  textile finishing, manufacturing techniques                1  \n71465  textile finishing, manufacturing techniques                1  \n71466  textile finishing, manufacturing techniques                1  \n\n[71467 rows x 11 columns]",
      "text/html": "<div>\n<style scoped>\n    .dataframe tbody tr th:only-of-type {\n        vertical-align: middle;\n    }\n\n    .dataframe tbody tr th {\n        vertical-align: top;\n    }\n\n    .dataframe thead th {\n        text-align: right;\n    }\n</style>\n<table border=\"1\" class=\"dataframe\">\n  <thead>\n    <tr style=\"text-align: right;\">\n      <th></th>\n      <th>ImageId</th>\n      <th>category</th>\n      <th>attribute</th>\n      <th>id</th>\n      <th>name</th>\n      <th>supercategory</th>\n      <th>level</th>\n      <th>id_attribute</th>\n      <th>name_attribute</th>\n      <th>supercategory_attribute</th>\n      <th>level_attribute</th>\n    </tr>\n  </thead>\n  <tbody>\n    <tr>\n      <th>0</th>\n      <td>000e973c99dc090afd7898c93daf0dbc.jpg</td>\n      <td>6</td>\n      <td>8</td>\n      <td>6</td>\n      <td>pants</td>\n      <td>lowerbody</td>\n      <td>2</td>\n      <td>8</td>\n      <td>maxi (length)</td>\n      <td>length</td>\n      <td>1</td>\n    </tr>\n    <tr>\n      <th>1</th>\n      <td>00537270eaf902da127c7ac9157a4db1.jpg</td>\n      <td>6</td>\n      <td>8</td>\n      <td>6</td>\n      <td>pants</td>\n      <td>lowerbody</td>\n      <td>2</td>\n      <td>8</td>\n      <td>maxi (length)</td>\n      <td>length</td>\n      <td>1</td>\n    </tr>\n    <tr>\n      <th>2</th>\n      <td>00758bef53b4e871fe2c639a895b5988.jpg</td>\n      <td>6</td>\n      <td>8</td>\n      <td>6</td>\n      <td>pants</td>\n      <td>lowerbody</td>\n      <td>2</td>\n      <td>8</td>\n      <td>maxi (length)</td>\n      <td>length</td>\n      <td>1</td>\n    </tr>\n    <tr>\n      <th>3</th>\n      <td>0091ae902cb738e4ca06038c2654fa00.jpg</td>\n      <td>6</td>\n      <td>8</td>\n      <td>6</td>\n      <td>pants</td>\n      <td>lowerbody</td>\n      <td>2</td>\n      <td>8</td>\n      <td>maxi (length)</td>\n      <td>length</td>\n      <td>1</td>\n    </tr>\n    <tr>\n      <th>4</th>\n      <td>00fc1cb8809762f07f6237c96e42ac31.jpg</td>\n      <td>6</td>\n      <td>8</td>\n      <td>6</td>\n      <td>pants</td>\n      <td>lowerbody</td>\n      <td>2</td>\n      <td>8</td>\n      <td>maxi (length)</td>\n      <td>length</td>\n      <td>1</td>\n    </tr>\n    <tr>\n      <th>...</th>\n      <td>...</td>\n      <td>...</td>\n      <td>...</td>\n      <td>...</td>\n      <td>...</td>\n      <td>...</td>\n      <td>...</td>\n      <td>...</td>\n      <td>...</td>\n      <td>...</td>\n      <td>...</td>\n    </tr>\n    <tr>\n      <th>71462</th>\n      <td>e66bcfa07c2b8c25c59c969286f86d2e.jpg</td>\n      <td>8</td>\n      <td>27</td>\n      <td>8</td>\n      <td>skirt</td>\n      <td>lowerbody</td>\n      <td>2</td>\n      <td>27</td>\n      <td>balloon</td>\n      <td>silhouette</td>\n      <td>1</td>\n    </tr>\n    <tr>\n      <th>71463</th>\n      <td>f3446a14aa6ed75fb34fb8a35684fb52.jpg</td>\n      <td>8</td>\n      <td>27</td>\n      <td>8</td>\n      <td>skirt</td>\n      <td>lowerbody</td>\n      <td>2</td>\n      <td>27</td>\n      <td>balloon</td>\n      <td>silhouette</td>\n      <td>1</td>\n    </tr>\n    <tr>\n      <th>71464</th>\n      <td>7984bc574e90a6c8b1bdea79032c057b.jpg</td>\n      <td>10</td>\n      <td>44</td>\n      <td>10</td>\n      <td>dress</td>\n      <td>wholebody</td>\n      <td>2</td>\n      <td>44</td>\n      <td>burnout</td>\n      <td>textile finishing, manufacturing techniques</td>\n      <td>1</td>\n    </tr>\n    <tr>\n      <th>71465</th>\n      <td>d6e4543c70c8a9fc220fdb3aa4defaf5.jpg</td>\n      <td>10</td>\n      <td>44</td>\n      <td>10</td>\n      <td>dress</td>\n      <td>wholebody</td>\n      <td>2</td>\n      <td>44</td>\n      <td>burnout</td>\n      <td>textile finishing, manufacturing techniques</td>\n      <td>1</td>\n    </tr>\n    <tr>\n      <th>71466</th>\n      <td>bc7a88cdf9723605e936af9700f57b2b.jpg</td>\n      <td>7</td>\n      <td>44</td>\n      <td>7</td>\n      <td>shorts</td>\n      <td>lowerbody</td>\n      <td>2</td>\n      <td>44</td>\n      <td>burnout</td>\n      <td>textile finishing, manufacturing techniques</td>\n      <td>1</td>\n    </tr>\n  </tbody>\n</table>\n<p>71467 rows × 11 columns</p>\n</div>"
     },
     "execution_count": 7,
     "metadata": {},
     "output_type": "execute_result"
    }
   ],
   "source": [
    "#extract all available attributes and create separate table\n",
    "cat_attributes = []\n",
    "for i in train_df[train_df.hasAttributes].index:\n",
    "    item = train_df.loc[i]\n",
    "    xs = item.ClassId.split(\"_\")\n",
    "    for a in xs[1:]:\n",
    "        cat_attributes.append({'ImageId': item.ImageId, 'category': int(xs[0]), 'attribute': int(a)})\n",
    "cat_attributes = pd.DataFrame(cat_attributes)\n",
    "\n",
    "cat_attributes = cat_attributes.merge(\n",
    "    categories, left_on=\"category\", right_on=\"id\"\n",
    ").merge(attributes, left_on=\"attribute\", right_on=\"id\", suffixes=(\"\", \"_attribute\"))\n",
    "cat_attributes"
   ],
   "metadata": {
    "collapsed": false,
    "ExecuteTime": {
     "start_time": "2023-12-24T11:52:54.310161Z",
     "end_time": "2023-12-24T11:52:54.970680Z"
    }
   }
  },
  {
   "cell_type": "code",
   "execution_count": 27,
   "outputs": [
    {
     "data": {
      "text/plain": "                                   ImageId  \\\n0     000aac3870ea7c59ca0333ffa5327323.jpg   \n1     000b3a87508b0fa185fbd53ecbe2e4c6.jpg   \n2     000e973c99dc090afd7898c93daf0dbc.jpg   \n3     0017a7bb9e2d8a0f44ce040ed164eea6.jpg   \n4     00211c06b1fe730097dde122cd4d3f8c.jpg   \n...                                    ...   \n6667  ffe98c53d299e23884221d8907ef9270.jpg   \n6668  ffeabfed76854857316298991eed892c.jpg   \n6669  ffec8295f37df6ea12eecbb60d2c23d4.jpg   \n6670  fff36676cdac2dd8d057783f0e9f24cc.jpg   \n6671  fff65379ba62e3f6498a20e9cc2a99fe.jpg   \n\n                                                   name  \\\n0     [dress, cardigan, cardigan, cardigan, cardigan...   \n1     [dress, dress, dress, dress, dress, dress, dress]   \n2     [pants, pants, jacket, dress, pants, pants, ja...   \n3     [dress, dress, dress, dress, dress, dress, dress]   \n4     [top, t-shirt, sweatshirt, shorts, top, t-shir...   \n...                                                 ...   \n6667         [dress, dress, dress, dress, dress, dress]   \n6668  [dress, dress, dress, dress, dress, dress, dress]   \n6669  [top, t-shirt, sweatshirt, skirt, top, t-shirt...   \n6670  [skirt, skirt, cardigan, top, t-shirt, sweatsh...   \n6671  [pants, pants, top, t-shirt, sweatshirt, coat,...   \n\n                                         name_attribute  \n0     [symmetrical, symmetrical, no special manufact...  \n1     [plain (pattern), normal waist, straight, chec...  \n2     [maxi (length), symmetrical, symmetrical, symm...  \n3     [symmetrical, plain (pattern), high waist, flo...  \n4     [symmetrical, symmetrical, plain (pattern), pl...  \n...                                                 ...  \n6667  [symmetrical, no special manufacturing techniq...  \n6668  [no special manufacturing technique, zip-up, p...  \n6669  [symmetrical, symmetrical, no special manufact...  \n6670  [symmetrical, no special manufacturing techniq...  \n6671  [maxi (length), symmetrical, symmetrical, symm...  \n\n[6672 rows x 3 columns]",
      "text/html": "<div>\n<style scoped>\n    .dataframe tbody tr th:only-of-type {\n        vertical-align: middle;\n    }\n\n    .dataframe tbody tr th {\n        vertical-align: top;\n    }\n\n    .dataframe thead th {\n        text-align: right;\n    }\n</style>\n<table border=\"1\" class=\"dataframe\">\n  <thead>\n    <tr style=\"text-align: right;\">\n      <th></th>\n      <th>ImageId</th>\n      <th>name</th>\n      <th>name_attribute</th>\n    </tr>\n  </thead>\n  <tbody>\n    <tr>\n      <th>0</th>\n      <td>000aac3870ea7c59ca0333ffa5327323.jpg</td>\n      <td>[dress, cardigan, cardigan, cardigan, cardigan...</td>\n      <td>[symmetrical, symmetrical, no special manufact...</td>\n    </tr>\n    <tr>\n      <th>1</th>\n      <td>000b3a87508b0fa185fbd53ecbe2e4c6.jpg</td>\n      <td>[dress, dress, dress, dress, dress, dress, dress]</td>\n      <td>[plain (pattern), normal waist, straight, chec...</td>\n    </tr>\n    <tr>\n      <th>2</th>\n      <td>000e973c99dc090afd7898c93daf0dbc.jpg</td>\n      <td>[pants, pants, jacket, dress, pants, pants, ja...</td>\n      <td>[maxi (length), symmetrical, symmetrical, symm...</td>\n    </tr>\n    <tr>\n      <th>3</th>\n      <td>0017a7bb9e2d8a0f44ce040ed164eea6.jpg</td>\n      <td>[dress, dress, dress, dress, dress, dress, dress]</td>\n      <td>[symmetrical, plain (pattern), high waist, flo...</td>\n    </tr>\n    <tr>\n      <th>4</th>\n      <td>00211c06b1fe730097dde122cd4d3f8c.jpg</td>\n      <td>[top, t-shirt, sweatshirt, shorts, top, t-shir...</td>\n      <td>[symmetrical, symmetrical, plain (pattern), pl...</td>\n    </tr>\n    <tr>\n      <th>...</th>\n      <td>...</td>\n      <td>...</td>\n      <td>...</td>\n    </tr>\n    <tr>\n      <th>6667</th>\n      <td>ffe98c53d299e23884221d8907ef9270.jpg</td>\n      <td>[dress, dress, dress, dress, dress, dress]</td>\n      <td>[symmetrical, no special manufacturing techniq...</td>\n    </tr>\n    <tr>\n      <th>6668</th>\n      <td>ffeabfed76854857316298991eed892c.jpg</td>\n      <td>[dress, dress, dress, dress, dress, dress, dress]</td>\n      <td>[no special manufacturing technique, zip-up, p...</td>\n    </tr>\n    <tr>\n      <th>6669</th>\n      <td>ffec8295f37df6ea12eecbb60d2c23d4.jpg</td>\n      <td>[top, t-shirt, sweatshirt, skirt, top, t-shirt...</td>\n      <td>[symmetrical, symmetrical, no special manufact...</td>\n    </tr>\n    <tr>\n      <th>6670</th>\n      <td>fff36676cdac2dd8d057783f0e9f24cc.jpg</td>\n      <td>[skirt, skirt, cardigan, top, t-shirt, sweatsh...</td>\n      <td>[symmetrical, no special manufacturing techniq...</td>\n    </tr>\n    <tr>\n      <th>6671</th>\n      <td>fff65379ba62e3f6498a20e9cc2a99fe.jpg</td>\n      <td>[pants, pants, top, t-shirt, sweatshirt, coat,...</td>\n      <td>[maxi (length), symmetrical, symmetrical, symm...</td>\n    </tr>\n  </tbody>\n</table>\n<p>6672 rows × 3 columns</p>\n</div>"
     },
     "execution_count": 27,
     "metadata": {},
     "output_type": "execute_result"
    }
   ],
   "source": [
    "cat_temp_df = (\n",
    "            cat_attributes.groupby(\"ImageId\")[[\"name\", \"name_attribute\"]]\n",
    "            .agg(lambda x: list(x))\n",
    "            .reset_index()\n",
    "        )\n",
    "cat_temp_df"
   ],
   "metadata": {
    "collapsed": false,
    "ExecuteTime": {
     "start_time": "2023-12-24T12:20:06.571249Z",
     "end_time": "2023-12-24T12:20:06.724795Z"
    }
   }
  },
  {
   "cell_type": "code",
   "execution_count": 35,
   "outputs": [
    {
     "data": {
      "text/plain": "                                   ImageId  \\\n0     000aac3870ea7c59ca0333ffa5327323.jpg   \n1     000b3a87508b0fa185fbd53ecbe2e4c6.jpg   \n2     000e973c99dc090afd7898c93daf0dbc.jpg   \n3     0017a7bb9e2d8a0f44ce040ed164eea6.jpg   \n4     00211c06b1fe730097dde122cd4d3f8c.jpg   \n...                                    ...   \n6667  ffe98c53d299e23884221d8907ef9270.jpg   \n6668  ffeabfed76854857316298991eed892c.jpg   \n6669  ffec8295f37df6ea12eecbb60d2c23d4.jpg   \n6670  fff36676cdac2dd8d057783f0e9f24cc.jpg   \n6671  fff65379ba62e3f6498a20e9cc2a99fe.jpg   \n\n                                                   name  \\\n0     [dress, cardigan, cardigan, cardigan, cardigan...   \n1     [dress, dress, dress, dress, dress, dress, dress]   \n2     [pants, pants, jacket, dress, pants, pants, ja...   \n3     [dress, dress, dress, dress, dress, dress, dress]   \n4     [top, t-shirt, sweatshirt, shorts, top, t-shir...   \n...                                                 ...   \n6667         [dress, dress, dress, dress, dress, dress]   \n6668  [dress, dress, dress, dress, dress, dress, dress]   \n6669  [top, t-shirt, sweatshirt, skirt, top, t-shirt...   \n6670  [skirt, skirt, cardigan, top, t-shirt, sweatsh...   \n6671  [pants, pants, top, t-shirt, sweatshirt, coat,...   \n\n                                         name_attribute  \\\n0     [symmetrical, symmetrical, no special manufact...   \n1     [plain (pattern), normal waist, straight, chec...   \n2     [maxi (length), symmetrical, symmetrical, symm...   \n3     [symmetrical, plain (pattern), high waist, flo...   \n4     [symmetrical, symmetrical, plain (pattern), pl...   \n...                                                 ...   \n6667  [symmetrical, no special manufacturing techniq...   \n6668  [no special manufacturing technique, zip-up, p...   \n6669  [symmetrical, symmetrical, no special manufact...   \n6670  [symmetrical, no special manufacturing techniq...   \n6671  [maxi (length), symmetrical, symmetrical, symm...   \n\n                                       named_attributes  \n0       {'dress': 'a-line', 'cardigan': 'hip (length)'}  \n1                                   {'dress': 'lining'}  \n2     {'pants': 'geometric', 'jacket': 'above-the-hi...  \n3                                 {'dress': 'high low'}  \n4     {'top, t-shirt, sweatshirt': 'hip (length)', '...  \n...                                                 ...  \n6667                         {'dress': 'fit and flare'}  \n6668                               {'dress': 'balloon'}  \n6669  {'top, t-shirt, sweatshirt': 'above-the-hip (l...  \n6670  {'skirt': 'mini (length)', 'cardigan': 'double...  \n6671  {'pants': 'tight (fit)', 'top, t-shirt, sweats...  \n\n[6672 rows x 4 columns]",
      "text/html": "<div>\n<style scoped>\n    .dataframe tbody tr th:only-of-type {\n        vertical-align: middle;\n    }\n\n    .dataframe tbody tr th {\n        vertical-align: top;\n    }\n\n    .dataframe thead th {\n        text-align: right;\n    }\n</style>\n<table border=\"1\" class=\"dataframe\">\n  <thead>\n    <tr style=\"text-align: right;\">\n      <th></th>\n      <th>ImageId</th>\n      <th>name</th>\n      <th>name_attribute</th>\n      <th>named_attributes</th>\n    </tr>\n  </thead>\n  <tbody>\n    <tr>\n      <th>0</th>\n      <td>000aac3870ea7c59ca0333ffa5327323.jpg</td>\n      <td>[dress, cardigan, cardigan, cardigan, cardigan...</td>\n      <td>[symmetrical, symmetrical, no special manufact...</td>\n      <td>{'dress': 'a-line', 'cardigan': 'hip (length)'}</td>\n    </tr>\n    <tr>\n      <th>1</th>\n      <td>000b3a87508b0fa185fbd53ecbe2e4c6.jpg</td>\n      <td>[dress, dress, dress, dress, dress, dress, dress]</td>\n      <td>[plain (pattern), normal waist, straight, chec...</td>\n      <td>{'dress': 'lining'}</td>\n    </tr>\n    <tr>\n      <th>2</th>\n      <td>000e973c99dc090afd7898c93daf0dbc.jpg</td>\n      <td>[pants, pants, jacket, dress, pants, pants, ja...</td>\n      <td>[maxi (length), symmetrical, symmetrical, symm...</td>\n      <td>{'pants': 'geometric', 'jacket': 'above-the-hi...</td>\n    </tr>\n    <tr>\n      <th>3</th>\n      <td>0017a7bb9e2d8a0f44ce040ed164eea6.jpg</td>\n      <td>[dress, dress, dress, dress, dress, dress, dress]</td>\n      <td>[symmetrical, plain (pattern), high waist, flo...</td>\n      <td>{'dress': 'high low'}</td>\n    </tr>\n    <tr>\n      <th>4</th>\n      <td>00211c06b1fe730097dde122cd4d3f8c.jpg</td>\n      <td>[top, t-shirt, sweatshirt, shorts, top, t-shir...</td>\n      <td>[symmetrical, symmetrical, plain (pattern), pl...</td>\n      <td>{'top, t-shirt, sweatshirt': 'hip (length)', '...</td>\n    </tr>\n    <tr>\n      <th>...</th>\n      <td>...</td>\n      <td>...</td>\n      <td>...</td>\n      <td>...</td>\n    </tr>\n    <tr>\n      <th>6667</th>\n      <td>ffe98c53d299e23884221d8907ef9270.jpg</td>\n      <td>[dress, dress, dress, dress, dress, dress]</td>\n      <td>[symmetrical, no special manufacturing techniq...</td>\n      <td>{'dress': 'fit and flare'}</td>\n    </tr>\n    <tr>\n      <th>6668</th>\n      <td>ffeabfed76854857316298991eed892c.jpg</td>\n      <td>[dress, dress, dress, dress, dress, dress, dress]</td>\n      <td>[no special manufacturing technique, zip-up, p...</td>\n      <td>{'dress': 'balloon'}</td>\n    </tr>\n    <tr>\n      <th>6669</th>\n      <td>ffec8295f37df6ea12eecbb60d2c23d4.jpg</td>\n      <td>[top, t-shirt, sweatshirt, skirt, top, t-shirt...</td>\n      <td>[symmetrical, symmetrical, no special manufact...</td>\n      <td>{'top, t-shirt, sweatshirt': 'above-the-hip (l...</td>\n    </tr>\n    <tr>\n      <th>6670</th>\n      <td>fff36676cdac2dd8d057783f0e9f24cc.jpg</td>\n      <td>[skirt, skirt, cardigan, top, t-shirt, sweatsh...</td>\n      <td>[symmetrical, no special manufacturing techniq...</td>\n      <td>{'skirt': 'mini (length)', 'cardigan': 'double...</td>\n    </tr>\n    <tr>\n      <th>6671</th>\n      <td>fff65379ba62e3f6498a20e9cc2a99fe.jpg</td>\n      <td>[pants, pants, top, t-shirt, sweatshirt, coat,...</td>\n      <td>[maxi (length), symmetrical, symmetrical, symm...</td>\n      <td>{'pants': 'tight (fit)', 'top, t-shirt, sweats...</td>\n    </tr>\n  </tbody>\n</table>\n<p>6672 rows × 4 columns</p>\n</div>"
     },
     "execution_count": 35,
     "metadata": {},
     "output_type": "execute_result"
    }
   ],
   "source": [
    "named_attributes = []\n",
    "for _, row in cat_temp_df.iterrows():\n",
    "    named_attributes.append({k:v for k, v in zip(row['name'], row['name_attribute'])})\n",
    "cat_temp_df['named_attributes'] = named_attributes\n",
    "cat_temp_df"
   ],
   "metadata": {
    "collapsed": false,
    "ExecuteTime": {
     "start_time": "2023-12-24T12:24:03.506264Z",
     "end_time": "2023-12-24T12:24:03.651181Z"
    }
   }
  },
  {
   "cell_type": "code",
   "execution_count": 36,
   "outputs": [
    {
     "data": {
      "text/plain": "                                    ImageId  \\\n0      00000663ed1ff0c4e0132b9b9ac53f6e.jpg   \n1      0000fe7c9191fba733c8a69cfaf962b7.jpg   \n2      0002ec21ddb8477e98b2cbb87ea2e269.jpg   \n3      0002f5a0ebc162ecfb73e2c91e3b8f62.jpg   \n4      0004467156e47b0eb6de4aa6479cbd15.jpg   \n...                                     ...   \n45190  fff8d9bd5ad4354b66355dd797942b42.jpg   \n45191  fffb65463df408e308983ef743b77491.jpg   \n45192  fffc631acce2e28e1628de685d40c980.jpg   \n45193  fffe20b555b98c3c1f26c8dfff275cbc.jpg   \n45194  ffffbf7014a9e408bfbb81a75bc70638.jpg   \n\n                                           EncodedPixels  \\\n0      [6068157 7 6073371 20 6078584 34 6083797 48 60...   \n1      [2201176 1 2203623 3 2206071 5 2208518 8 22109...   \n2      [2673735 2 2676734 8 2679734 13 2682733 19 268...   \n3      [107288 1 107854 3 108421 2 108987 3 109554 2 ...   \n4      [241830 6 242576 16 243321 24 244066 29 244811...   \n...                                                  ...   \n45190  [547982 1 549481 2 550980 3 552480 4 553981 3 ...   \n45191  [2113440 62 2116428 82 2119416 102 2122407 119...   \n45192  [290845 20 291816 26 292789 30 293763 33 29473...   \n45193  [2611656 2 2614657 4 2617657 8 2620658 11 2623...   \n45194  [116648 5 117148 16 117648 22 118148 26 118647...   \n\n                                              CategoryId  \\\n0                      [6, 0, 28, 31, 31, 32, 32, 29, 4]   \n1                                                [33, 1]   \n2                                       [33, 10, 23, 23]   \n3                                           [33, 10, 15]   \n4                                   [31, 31, 33, 10, 15]   \n...                                                  ...   \n45190                                   [33, 10, 23, 23]   \n45191             [6, 31, 31, 33, 1, 23, 23, 19, 18, 34]   \n45192           [28, 31, 31, 32, 10, 23, 23, 13, 24, 18]   \n45193  [6, 0, 28, 31, 31, 31, 32, 32, 32, 29, 4, 23, ...   \n45194                                   [31, 31, 33, 10]   \n\n                                                    name  \\\n0      [pants, shirt, blouse, collar, sleeve, sleeve,...   \n1                   [neckline, top, t-shirt, sweatshirt]   \n2                          [neckline, dress, shoe, shoe]   \n3      [neckline, dress, headband, head covering, hai...   \n4      [sleeve, sleeve, neckline, dress, headband, he...   \n...                                                  ...   \n45190                      [neckline, dress, shoe, shoe]   \n45191  [pants, sleeve, sleeve, neckline, top, t-shirt...   \n45192  [collar, sleeve, sleeve, pocket, dress, shoe, ...   \n45193  [pants, shirt, blouse, collar, sleeve, sleeve,...   \n45194                  [sleeve, sleeve, neckline, dress]   \n\n                                           supercategory  Height   Width  \n0      [lowerbody, upperbody, garment parts, garment ...  5214.0  3676.0  \n1                             [garment parts, upperbody]  2448.0  2448.0  \n2      [garment parts, wholebody, legs and feet, legs...  3000.0  1997.0  \n3                       [garment parts, wholebody, head]   567.0   400.0  \n4      [garment parts, garment parts, garment parts, ...   750.0   500.0  \n...                                                  ...     ...     ...  \n45190  [garment parts, wholebody, legs and feet, legs...  1500.0  1000.0  \n45191  [lowerbody, garment parts, garment parts, garm...  3000.0  2247.0  \n45192  [garment parts, garment parts, garment parts, ...   975.0   650.0  \n45193  [lowerbody, upperbody, garment parts, garment ...  3000.0  2001.0  \n45194  [garment parts, garment parts, garment parts, ...   500.0   375.0  \n\n[45195 rows x 7 columns]",
      "text/html": "<div>\n<style scoped>\n    .dataframe tbody tr th:only-of-type {\n        vertical-align: middle;\n    }\n\n    .dataframe tbody tr th {\n        vertical-align: top;\n    }\n\n    .dataframe thead th {\n        text-align: right;\n    }\n</style>\n<table border=\"1\" class=\"dataframe\">\n  <thead>\n    <tr style=\"text-align: right;\">\n      <th></th>\n      <th>ImageId</th>\n      <th>EncodedPixels</th>\n      <th>CategoryId</th>\n      <th>name</th>\n      <th>supercategory</th>\n      <th>Height</th>\n      <th>Width</th>\n    </tr>\n  </thead>\n  <tbody>\n    <tr>\n      <th>0</th>\n      <td>00000663ed1ff0c4e0132b9b9ac53f6e.jpg</td>\n      <td>[6068157 7 6073371 20 6078584 34 6083797 48 60...</td>\n      <td>[6, 0, 28, 31, 31, 32, 32, 29, 4]</td>\n      <td>[pants, shirt, blouse, collar, sleeve, sleeve,...</td>\n      <td>[lowerbody, upperbody, garment parts, garment ...</td>\n      <td>5214.0</td>\n      <td>3676.0</td>\n    </tr>\n    <tr>\n      <th>1</th>\n      <td>0000fe7c9191fba733c8a69cfaf962b7.jpg</td>\n      <td>[2201176 1 2203623 3 2206071 5 2208518 8 22109...</td>\n      <td>[33, 1]</td>\n      <td>[neckline, top, t-shirt, sweatshirt]</td>\n      <td>[garment parts, upperbody]</td>\n      <td>2448.0</td>\n      <td>2448.0</td>\n    </tr>\n    <tr>\n      <th>2</th>\n      <td>0002ec21ddb8477e98b2cbb87ea2e269.jpg</td>\n      <td>[2673735 2 2676734 8 2679734 13 2682733 19 268...</td>\n      <td>[33, 10, 23, 23]</td>\n      <td>[neckline, dress, shoe, shoe]</td>\n      <td>[garment parts, wholebody, legs and feet, legs...</td>\n      <td>3000.0</td>\n      <td>1997.0</td>\n    </tr>\n    <tr>\n      <th>3</th>\n      <td>0002f5a0ebc162ecfb73e2c91e3b8f62.jpg</td>\n      <td>[107288 1 107854 3 108421 2 108987 3 109554 2 ...</td>\n      <td>[33, 10, 15]</td>\n      <td>[neckline, dress, headband, head covering, hai...</td>\n      <td>[garment parts, wholebody, head]</td>\n      <td>567.0</td>\n      <td>400.0</td>\n    </tr>\n    <tr>\n      <th>4</th>\n      <td>0004467156e47b0eb6de4aa6479cbd15.jpg</td>\n      <td>[241830 6 242576 16 243321 24 244066 29 244811...</td>\n      <td>[31, 31, 33, 10, 15]</td>\n      <td>[sleeve, sleeve, neckline, dress, headband, he...</td>\n      <td>[garment parts, garment parts, garment parts, ...</td>\n      <td>750.0</td>\n      <td>500.0</td>\n    </tr>\n    <tr>\n      <th>...</th>\n      <td>...</td>\n      <td>...</td>\n      <td>...</td>\n      <td>...</td>\n      <td>...</td>\n      <td>...</td>\n      <td>...</td>\n    </tr>\n    <tr>\n      <th>45190</th>\n      <td>fff8d9bd5ad4354b66355dd797942b42.jpg</td>\n      <td>[547982 1 549481 2 550980 3 552480 4 553981 3 ...</td>\n      <td>[33, 10, 23, 23]</td>\n      <td>[neckline, dress, shoe, shoe]</td>\n      <td>[garment parts, wholebody, legs and feet, legs...</td>\n      <td>1500.0</td>\n      <td>1000.0</td>\n    </tr>\n    <tr>\n      <th>45191</th>\n      <td>fffb65463df408e308983ef743b77491.jpg</td>\n      <td>[2113440 62 2116428 82 2119416 102 2122407 119...</td>\n      <td>[6, 31, 31, 33, 1, 23, 23, 19, 18, 34]</td>\n      <td>[pants, sleeve, sleeve, neckline, top, t-shirt...</td>\n      <td>[lowerbody, garment parts, garment parts, garm...</td>\n      <td>3000.0</td>\n      <td>2247.0</td>\n    </tr>\n    <tr>\n      <th>45192</th>\n      <td>fffc631acce2e28e1628de685d40c980.jpg</td>\n      <td>[290845 20 291816 26 292789 30 293763 33 29473...</td>\n      <td>[28, 31, 31, 32, 10, 23, 23, 13, 24, 18]</td>\n      <td>[collar, sleeve, sleeve, pocket, dress, shoe, ...</td>\n      <td>[garment parts, garment parts, garment parts, ...</td>\n      <td>975.0</td>\n      <td>650.0</td>\n    </tr>\n    <tr>\n      <th>45193</th>\n      <td>fffe20b555b98c3c1f26c8dfff275cbc.jpg</td>\n      <td>[2611656 2 2614657 4 2617657 8 2620658 11 2623...</td>\n      <td>[6, 0, 28, 31, 31, 31, 32, 32, 32, 29, 4, 23, ...</td>\n      <td>[pants, shirt, blouse, collar, sleeve, sleeve,...</td>\n      <td>[lowerbody, upperbody, garment parts, garment ...</td>\n      <td>3000.0</td>\n      <td>2001.0</td>\n    </tr>\n    <tr>\n      <th>45194</th>\n      <td>ffffbf7014a9e408bfbb81a75bc70638.jpg</td>\n      <td>[116648 5 117148 16 117648 22 118148 26 118647...</td>\n      <td>[31, 31, 33, 10]</td>\n      <td>[sleeve, sleeve, neckline, dress]</td>\n      <td>[garment parts, garment parts, garment parts, ...</td>\n      <td>500.0</td>\n      <td>375.0</td>\n    </tr>\n  </tbody>\n</table>\n<p>45195 rows × 7 columns</p>\n</div>"
     },
     "execution_count": 36,
     "metadata": {},
     "output_type": "execute_result"
    }
   ],
   "source": [
    "temp_df"
   ],
   "metadata": {
    "collapsed": false,
    "ExecuteTime": {
     "start_time": "2023-12-24T12:24:54.066129Z",
     "end_time": "2023-12-24T12:24:54.083069Z"
    }
   }
  },
  {
   "cell_type": "code",
   "execution_count": 37,
   "outputs": [
    {
     "data": {
      "text/plain": "                                    ImageId  \\\n0      00000663ed1ff0c4e0132b9b9ac53f6e.jpg   \n1      0000fe7c9191fba733c8a69cfaf962b7.jpg   \n2      0002ec21ddb8477e98b2cbb87ea2e269.jpg   \n3      0002f5a0ebc162ecfb73e2c91e3b8f62.jpg   \n4      0004467156e47b0eb6de4aa6479cbd15.jpg   \n...                                     ...   \n45190  fff8d9bd5ad4354b66355dd797942b42.jpg   \n45191  fffb65463df408e308983ef743b77491.jpg   \n45192  fffc631acce2e28e1628de685d40c980.jpg   \n45193  fffe20b555b98c3c1f26c8dfff275cbc.jpg   \n45194  ffffbf7014a9e408bfbb81a75bc70638.jpg   \n\n                                           EncodedPixels  \\\n0      [6068157 7 6073371 20 6078584 34 6083797 48 60...   \n1      [2201176 1 2203623 3 2206071 5 2208518 8 22109...   \n2      [2673735 2 2676734 8 2679734 13 2682733 19 268...   \n3      [107288 1 107854 3 108421 2 108987 3 109554 2 ...   \n4      [241830 6 242576 16 243321 24 244066 29 244811...   \n...                                                  ...   \n45190  [547982 1 549481 2 550980 3 552480 4 553981 3 ...   \n45191  [2113440 62 2116428 82 2119416 102 2122407 119...   \n45192  [290845 20 291816 26 292789 30 293763 33 29473...   \n45193  [2611656 2 2614657 4 2617657 8 2620658 11 2623...   \n45194  [116648 5 117148 16 117648 22 118148 26 118647...   \n\n                                              CategoryId  \\\n0                      [6, 0, 28, 31, 31, 32, 32, 29, 4]   \n1                                                [33, 1]   \n2                                       [33, 10, 23, 23]   \n3                                           [33, 10, 15]   \n4                                   [31, 31, 33, 10, 15]   \n...                                                  ...   \n45190                                   [33, 10, 23, 23]   \n45191             [6, 31, 31, 33, 1, 23, 23, 19, 18, 34]   \n45192           [28, 31, 31, 32, 10, 23, 23, 13, 24, 18]   \n45193  [6, 0, 28, 31, 31, 31, 32, 32, 32, 29, 4, 23, ...   \n45194                                   [31, 31, 33, 10]   \n\n                                                    name  \\\n0      [pants, shirt, blouse, collar, sleeve, sleeve,...   \n1                   [neckline, top, t-shirt, sweatshirt]   \n2                          [neckline, dress, shoe, shoe]   \n3      [neckline, dress, headband, head covering, hai...   \n4      [sleeve, sleeve, neckline, dress, headband, he...   \n...                                                  ...   \n45190                      [neckline, dress, shoe, shoe]   \n45191  [pants, sleeve, sleeve, neckline, top, t-shirt...   \n45192  [collar, sleeve, sleeve, pocket, dress, shoe, ...   \n45193  [pants, shirt, blouse, collar, sleeve, sleeve,...   \n45194                  [sleeve, sleeve, neckline, dress]   \n\n                                           supercategory  Height   Width  \\\n0      [lowerbody, upperbody, garment parts, garment ...  5214.0  3676.0   \n1                             [garment parts, upperbody]  2448.0  2448.0   \n2      [garment parts, wholebody, legs and feet, legs...  3000.0  1997.0   \n3                       [garment parts, wholebody, head]   567.0   400.0   \n4      [garment parts, garment parts, garment parts, ...   750.0   500.0   \n...                                                  ...     ...     ...   \n45190  [garment parts, wholebody, legs and feet, legs...  1500.0  1000.0   \n45191  [lowerbody, garment parts, garment parts, garm...  3000.0  2247.0   \n45192  [garment parts, garment parts, garment parts, ...   975.0   650.0   \n45193  [lowerbody, upperbody, garment parts, garment ...  3000.0  2001.0   \n45194  [garment parts, garment parts, garment parts, ...   500.0   375.0   \n\n      named_attributes  \n0                  NaN  \n1                  NaN  \n2                  NaN  \n3                  NaN  \n4                  NaN  \n...                ...  \n45190              NaN  \n45191              NaN  \n45192              NaN  \n45193              NaN  \n45194              NaN  \n\n[45195 rows x 8 columns]",
      "text/html": "<div>\n<style scoped>\n    .dataframe tbody tr th:only-of-type {\n        vertical-align: middle;\n    }\n\n    .dataframe tbody tr th {\n        vertical-align: top;\n    }\n\n    .dataframe thead th {\n        text-align: right;\n    }\n</style>\n<table border=\"1\" class=\"dataframe\">\n  <thead>\n    <tr style=\"text-align: right;\">\n      <th></th>\n      <th>ImageId</th>\n      <th>EncodedPixels</th>\n      <th>CategoryId</th>\n      <th>name</th>\n      <th>supercategory</th>\n      <th>Height</th>\n      <th>Width</th>\n      <th>named_attributes</th>\n    </tr>\n  </thead>\n  <tbody>\n    <tr>\n      <th>0</th>\n      <td>00000663ed1ff0c4e0132b9b9ac53f6e.jpg</td>\n      <td>[6068157 7 6073371 20 6078584 34 6083797 48 60...</td>\n      <td>[6, 0, 28, 31, 31, 32, 32, 29, 4]</td>\n      <td>[pants, shirt, blouse, collar, sleeve, sleeve,...</td>\n      <td>[lowerbody, upperbody, garment parts, garment ...</td>\n      <td>5214.0</td>\n      <td>3676.0</td>\n      <td>NaN</td>\n    </tr>\n    <tr>\n      <th>1</th>\n      <td>0000fe7c9191fba733c8a69cfaf962b7.jpg</td>\n      <td>[2201176 1 2203623 3 2206071 5 2208518 8 22109...</td>\n      <td>[33, 1]</td>\n      <td>[neckline, top, t-shirt, sweatshirt]</td>\n      <td>[garment parts, upperbody]</td>\n      <td>2448.0</td>\n      <td>2448.0</td>\n      <td>NaN</td>\n    </tr>\n    <tr>\n      <th>2</th>\n      <td>0002ec21ddb8477e98b2cbb87ea2e269.jpg</td>\n      <td>[2673735 2 2676734 8 2679734 13 2682733 19 268...</td>\n      <td>[33, 10, 23, 23]</td>\n      <td>[neckline, dress, shoe, shoe]</td>\n      <td>[garment parts, wholebody, legs and feet, legs...</td>\n      <td>3000.0</td>\n      <td>1997.0</td>\n      <td>NaN</td>\n    </tr>\n    <tr>\n      <th>3</th>\n      <td>0002f5a0ebc162ecfb73e2c91e3b8f62.jpg</td>\n      <td>[107288 1 107854 3 108421 2 108987 3 109554 2 ...</td>\n      <td>[33, 10, 15]</td>\n      <td>[neckline, dress, headband, head covering, hai...</td>\n      <td>[garment parts, wholebody, head]</td>\n      <td>567.0</td>\n      <td>400.0</td>\n      <td>NaN</td>\n    </tr>\n    <tr>\n      <th>4</th>\n      <td>0004467156e47b0eb6de4aa6479cbd15.jpg</td>\n      <td>[241830 6 242576 16 243321 24 244066 29 244811...</td>\n      <td>[31, 31, 33, 10, 15]</td>\n      <td>[sleeve, sleeve, neckline, dress, headband, he...</td>\n      <td>[garment parts, garment parts, garment parts, ...</td>\n      <td>750.0</td>\n      <td>500.0</td>\n      <td>NaN</td>\n    </tr>\n    <tr>\n      <th>...</th>\n      <td>...</td>\n      <td>...</td>\n      <td>...</td>\n      <td>...</td>\n      <td>...</td>\n      <td>...</td>\n      <td>...</td>\n      <td>...</td>\n    </tr>\n    <tr>\n      <th>45190</th>\n      <td>fff8d9bd5ad4354b66355dd797942b42.jpg</td>\n      <td>[547982 1 549481 2 550980 3 552480 4 553981 3 ...</td>\n      <td>[33, 10, 23, 23]</td>\n      <td>[neckline, dress, shoe, shoe]</td>\n      <td>[garment parts, wholebody, legs and feet, legs...</td>\n      <td>1500.0</td>\n      <td>1000.0</td>\n      <td>NaN</td>\n    </tr>\n    <tr>\n      <th>45191</th>\n      <td>fffb65463df408e308983ef743b77491.jpg</td>\n      <td>[2113440 62 2116428 82 2119416 102 2122407 119...</td>\n      <td>[6, 31, 31, 33, 1, 23, 23, 19, 18, 34]</td>\n      <td>[pants, sleeve, sleeve, neckline, top, t-shirt...</td>\n      <td>[lowerbody, garment parts, garment parts, garm...</td>\n      <td>3000.0</td>\n      <td>2247.0</td>\n      <td>NaN</td>\n    </tr>\n    <tr>\n      <th>45192</th>\n      <td>fffc631acce2e28e1628de685d40c980.jpg</td>\n      <td>[290845 20 291816 26 292789 30 293763 33 29473...</td>\n      <td>[28, 31, 31, 32, 10, 23, 23, 13, 24, 18]</td>\n      <td>[collar, sleeve, sleeve, pocket, dress, shoe, ...</td>\n      <td>[garment parts, garment parts, garment parts, ...</td>\n      <td>975.0</td>\n      <td>650.0</td>\n      <td>NaN</td>\n    </tr>\n    <tr>\n      <th>45193</th>\n      <td>fffe20b555b98c3c1f26c8dfff275cbc.jpg</td>\n      <td>[2611656 2 2614657 4 2617657 8 2620658 11 2623...</td>\n      <td>[6, 0, 28, 31, 31, 31, 32, 32, 32, 29, 4, 23, ...</td>\n      <td>[pants, shirt, blouse, collar, sleeve, sleeve,...</td>\n      <td>[lowerbody, upperbody, garment parts, garment ...</td>\n      <td>3000.0</td>\n      <td>2001.0</td>\n      <td>NaN</td>\n    </tr>\n    <tr>\n      <th>45194</th>\n      <td>ffffbf7014a9e408bfbb81a75bc70638.jpg</td>\n      <td>[116648 5 117148 16 117648 22 118148 26 118647...</td>\n      <td>[31, 31, 33, 10]</td>\n      <td>[sleeve, sleeve, neckline, dress]</td>\n      <td>[garment parts, garment parts, garment parts, ...</td>\n      <td>500.0</td>\n      <td>375.0</td>\n      <td>NaN</td>\n    </tr>\n  </tbody>\n</table>\n<p>45195 rows × 8 columns</p>\n</div>"
     },
     "execution_count": 37,
     "metadata": {},
     "output_type": "execute_result"
    }
   ],
   "source": [
    "temp_df_with_attrs = temp_df.merge(cat_temp_df[[\"ImageId\", \"named_attributes\"]], on=\"ImageId\", how=\"left\")\n",
    "temp_df_with_attrs"
   ],
   "metadata": {
    "collapsed": false,
    "ExecuteTime": {
     "start_time": "2023-12-24T12:25:42.805771Z",
     "end_time": "2023-12-24T12:25:42.841938Z"
    }
   }
  },
  {
   "cell_type": "code",
   "execution_count": 38,
   "outputs": [],
   "source": [
    "temp_df_with_attrs.to_csv('../training/iMaterialist(Fashion)/dataset/train.csv', index=False)"
   ],
   "metadata": {
    "collapsed": false,
    "ExecuteTime": {
     "start_time": "2023-12-24T12:26:12.150287Z",
     "end_time": "2023-12-24T12:26:26.122484Z"
    }
   }
  },
  {
   "cell_type": "code",
   "execution_count": 39,
   "outputs": [
    {
     "data": {
      "text/plain": "ImageId\n00000663ed1ff0c4e0132b9b9ac53f6e.jpg    1\naaa6bdf06327e514c05fbc842b156e93.jpg    1\naa423374999c180321b5afefa7c1c672.jpg    1\naa44ea197382653e78127af7e0d44a21.jpg    1\naa4528610f8bf66b458bde0f42c6d3b6.jpg    1\n                                       ..\n550b27ec6933d799bb38ca6f8c786f6f.jpg    1\n550b35395698afe968c502e7aac4d972.jpg    1\n550b59a36deac489a8b4c212630679a7.jpg    1\n550bc2993d0774c9df517c1f6ba83189.jpg    1\nffffbf7014a9e408bfbb81a75bc70638.jpg    1\nName: count, Length: 45195, dtype: int64"
     },
     "execution_count": 39,
     "metadata": {},
     "output_type": "execute_result"
    }
   ],
   "source": [
    "temp_df_with_attrs.ImageId.value_counts()"
   ],
   "metadata": {
    "collapsed": false,
    "ExecuteTime": {
     "start_time": "2023-12-24T12:27:03.218229Z",
     "end_time": "2023-12-24T12:27:03.244250Z"
    }
   }
  },
  {
   "cell_type": "code",
   "execution_count": null,
   "outputs": [],
   "source": [],
   "metadata": {
    "collapsed": false
   }
  }
 ],
 "metadata": {
  "kernelspec": {
   "display_name": "Python 3",
   "language": "python",
   "name": "python3"
  },
  "language_info": {
   "codemirror_mode": {
    "name": "ipython",
    "version": 2
   },
   "file_extension": ".py",
   "mimetype": "text/x-python",
   "name": "python",
   "nbconvert_exporter": "python",
   "pygments_lexer": "ipython2",
   "version": "2.7.6"
  }
 },
 "nbformat": 4,
 "nbformat_minor": 0
}
